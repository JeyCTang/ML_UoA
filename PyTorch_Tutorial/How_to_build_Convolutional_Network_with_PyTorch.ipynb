{
 "nbformat": 4,
 "nbformat_minor": 0,
 "metadata": {
  "colab": {
   "name": "How to build Convolutional Network with PyTorch.ipynb",
   "provenance": []
  },
  "kernelspec": {
   "name": "python3",
   "display_name": "Python 3"
  },
  "language_info": {
   "name": "python"
  },
  "accelerator": "GPU"
 },
 "cells": [
  {
   "cell_type": "code",
   "metadata": {
    "id": "_uvFw4spqVle"
   },
   "source": [
    "import os\n",
    "import torch\n",
    "from torch import nn\n",
    "from torchvision.datasets import MNIST\n",
    "from torch.utils.data import DataLoader\n",
    "from torchvision import transforms"
   ],
   "execution_count": 29,
   "outputs": []
  },
  {
   "cell_type": "code",
   "metadata": {
    "id": "KbQoP7leuS4r"
   },
   "source": [
    "class ConvNet(nn.Module):\n",
    "    '''\n",
    "    Simple Convolutional Neural Network\n",
    "    '''\n",
    "    def __init__(self):\n",
    "        super().__init__()\n",
    "        self.layers = nn.Sequential(\n",
    "            nn.Conv2d(1, 10, kernel_size=3),\n",
    "            nn.ReLU(),\n",
    "            nn.Conv2d(10, 5, kernel_size=3),\n",
    "            nn.ReLU(),\n",
    "            nn.Flatten(),\n",
    "            nn.Linear(24 * 24 * 5, 64),\n",
    "            nn.ReLU(),\n",
    "            nn.Linear(64, 32),\n",
    "            nn.ReLU(),\n",
    "            nn.Linear(32, 10)\n",
    "        )\n",
    "    \n",
    "    def forward(self, x):\n",
    "        return self.layers(x)"
   ],
   "execution_count": 31,
   "outputs": []
  },
  {
   "cell_type": "code",
   "metadata": {
    "id": "RMWs2V_GvUGQ"
   },
   "source": [
    "# Set fixed random number seed\n",
    "torch.manual_seed(42)\n",
    "\n",
    "# Prepare CIFAR-10 dataset\n",
    "dataset = MNIST(os.getcwd(), download=True, transform=transforms.ToTensor())\n",
    "\n",
    "trainloader = torch.utils.data.DataLoader(dataset, batch_size=10, shuffle=True, num_workers=1)\n",
    "\n",
    "# Initialize the ConvNet\n",
    "convnet = ConvNet().cuda(0)\n",
    "\n",
    "# Define the loss function and optimizer\n",
    "loss_function = nn.CrossEntropyLoss()\n",
    "optimizer = torch.optim.Adam(convnet.parameters(), lr=1e-4)"
   ],
   "execution_count": 60,
   "outputs": []
  },
  {
   "cell_type": "code",
   "metadata": {
    "colab": {
     "base_uri": "https://localhost:8080/"
    },
    "id": "dHWja90Q6I-p",
    "outputId": "d385cf3b-f6ab-4e2f-98a2-4066fe3974eb"
   },
   "source": [
    "# Run the training loop\n",
    "for epoch in range(0, 5): # 5 epochs at maximum\n",
    "\n",
    "    # Print epoch\n",
    "    print(f'Starting epoch {epoch+1}')\n",
    "\n",
    "    # Set current loss value\n",
    "    current_loss = 0.0\n",
    "\n",
    "    # Iterate over the DataLoader for training data\n",
    "    for i, data in enumerate(trainloader, 0):\n",
    "        \n",
    "        # Get inputs\n",
    "        inputs, targets = data\n",
    "        inputs = inputs.cuda(0)\n",
    "        targets = targets.cuda(0)\n",
    "        \n",
    "        # Zero the gradients\n",
    "        optimizer.zero_grad()\n",
    "        \n",
    "        # Perform forward pass\n",
    "        outputs = convnet(inputs)\n",
    "        \n",
    "        # Compute loss\n",
    "        loss = loss_function(outputs, targets)\n",
    "        \n",
    "        # Perform backward pass\n",
    "        loss.backward()\n",
    "        \n",
    "        # Perform optimization\n",
    "        optimizer.step()\n",
    "        \n",
    "        # Print statistics\n",
    "        current_loss += loss.item()\n",
    "        if i % 500 == 499:\n",
    "            print('Loss after mini-batch %5d: %.3f' %\n",
    "                (i + 1, current_loss / 500))\n",
    "            current_loss = 0.0\n",
    "\n",
    "    # Process is complete.\n",
    "    print('Training process has finished.')"
   ],
   "execution_count": 61,
   "outputs": [
    {
     "output_type": "stream",
     "name": "stdout",
     "text": [
      "Starting epoch 1\n",
      "Loss after mini-batch   500: 1.400\n",
      "Loss after mini-batch  1000: 0.465\n",
      "Loss after mini-batch  1500: 0.380\n",
      "Loss after mini-batch  2000: 0.341\n",
      "Loss after mini-batch  2500: 0.348\n",
      "Loss after mini-batch  3000: 0.310\n",
      "Loss after mini-batch  3500: 0.306\n",
      "Loss after mini-batch  4000: 0.290\n",
      "Loss after mini-batch  4500: 0.276\n",
      "Loss after mini-batch  5000: 0.246\n",
      "Loss after mini-batch  5500: 0.245\n",
      "Loss after mini-batch  6000: 0.224\n",
      "Training process has finished.\n",
      "Starting epoch 2\n",
      "Loss after mini-batch   500: 0.217\n",
      "Loss after mini-batch  1000: 0.226\n",
      "Loss after mini-batch  1500: 0.189\n",
      "Loss after mini-batch  2000: 0.182\n",
      "Loss after mini-batch  2500: 0.178\n",
      "Loss after mini-batch  3000: 0.176\n",
      "Loss after mini-batch  3500: 0.166\n",
      "Loss after mini-batch  4000: 0.158\n",
      "Loss after mini-batch  4500: 0.172\n",
      "Loss after mini-batch  5000: 0.139\n",
      "Loss after mini-batch  5500: 0.157\n",
      "Loss after mini-batch  6000: 0.133\n",
      "Training process has finished.\n",
      "Starting epoch 3\n",
      "Loss after mini-batch   500: 0.127\n",
      "Loss after mini-batch  1000: 0.120\n",
      "Loss after mini-batch  1500: 0.134\n",
      "Loss after mini-batch  2000: 0.127\n",
      "Loss after mini-batch  2500: 0.111\n",
      "Loss after mini-batch  3000: 0.112\n",
      "Loss after mini-batch  3500: 0.107\n",
      "Loss after mini-batch  4000: 0.117\n",
      "Loss after mini-batch  4500: 0.105\n",
      "Loss after mini-batch  5000: 0.093\n",
      "Loss after mini-batch  5500: 0.106\n",
      "Loss after mini-batch  6000: 0.095\n",
      "Training process has finished.\n",
      "Starting epoch 4\n",
      "Loss after mini-batch   500: 0.097\n",
      "Loss after mini-batch  1000: 0.091\n",
      "Loss after mini-batch  1500: 0.081\n",
      "Loss after mini-batch  2000: 0.086\n",
      "Loss after mini-batch  2500: 0.088\n",
      "Loss after mini-batch  3000: 0.085\n",
      "Loss after mini-batch  3500: 0.086\n",
      "Loss after mini-batch  4000: 0.084\n",
      "Loss after mini-batch  4500: 0.082\n",
      "Loss after mini-batch  5000: 0.091\n",
      "Loss after mini-batch  5500: 0.086\n",
      "Loss after mini-batch  6000: 0.072\n",
      "Training process has finished.\n",
      "Starting epoch 5\n",
      "Loss after mini-batch   500: 0.065\n",
      "Loss after mini-batch  1000: 0.068\n",
      "Loss after mini-batch  1500: 0.076\n",
      "Loss after mini-batch  2000: 0.066\n",
      "Loss after mini-batch  2500: 0.068\n",
      "Loss after mini-batch  3000: 0.063\n",
      "Loss after mini-batch  3500: 0.070\n",
      "Loss after mini-batch  4000: 0.071\n",
      "Loss after mini-batch  4500: 0.078\n",
      "Loss after mini-batch  5000: 0.063\n",
      "Loss after mini-batch  5500: 0.072\n",
      "Loss after mini-batch  6000: 0.068\n",
      "Training process has finished.\n"
     ]
    }
   ]
  },
  {
   "cell_type": "code",
   "metadata": {
    "colab": {
     "base_uri": "https://localhost:8080/"
    },
    "id": "QNElNqlz9lpd",
    "outputId": "3ed1cf47-4c9d-4df9-ff6d-cb903e771f4c"
   },
   "source": [
    "torch.cuda.device_count()"
   ],
   "execution_count": 39,
   "outputs": [
    {
     "output_type": "execute_result",
     "data": {
      "text/plain": [
       "1"
      ]
     },
     "metadata": {},
     "execution_count": 39
    }
   ]
  }
 ]
}