{
 "cells": [
  {
   "cell_type": "markdown",
   "metadata": {
    "collapsed": true,
    "pycharm": {
     "name": "#%% md\n"
    }
   },
   "source": [
    "# PyTorch Introduction\n",
    "\n",
    "Goal takeways:\n",
    "- Automatic differentiation is a powerful tool\n",
    "- PyTorch implements common function used in deep learning\n",
    "- Data Processing with PyTorch DataSet\n",
    "- Mixed Presision Training in PyTorch"
   ]
  },
  {
   "cell_type": "code",
   "execution_count": 2,
   "outputs": [],
   "source": [
    "import struct\n",
    "\n",
    "import numpy as np\n",
    "import torch\n",
    "\n",
    "torch.manual_seed(446)\n",
    "np.random.seed(446)"
   ],
   "metadata": {
    "collapsed": false,
    "pycharm": {
     "name": "#%%\n"
    }
   }
  },
  {
   "cell_type": "markdown",
   "source": [
    "## Tensors and relation to numpy\n",
    "\n",
    "By this point, we have worked with numpy quite a bit. PyTorch's building block, the `tensor` is similar to numpy's `ndarray`."
   ],
   "metadata": {
    "collapsed": false,
    "pycharm": {
     "name": "#%% md\n"
    }
   }
  },
  {
   "cell_type": "code",
   "execution_count": 3,
   "outputs": [
    {
     "name": "stdout",
     "output_type": "stream",
     "text": [
      "x_numpy, x_torch\n",
      "[0.1 0.2 0.3] tensor([0.1000, 0.2000, 0.3000])\n",
      "\n",
      "to and from numpy and pytorch\n",
      "tensor([0.1000, 0.2000, 0.3000], dtype=torch.float64) [0.1 0.2 0.3]\n",
      "\n",
      "x + y\n",
      "[3.1 4.2 5.3] tensor([3.1000, 4.2000, 5.3000])\n",
      "\n",
      "norm\n",
      "0.37416573867739417 tensor(0.3742)\n",
      "\n",
      "mean along the 0th dimension\n",
      "[2. 3.] tensor([2., 3.])\n"
     ]
    }
   ],
   "source": [
    "# we create tensors in a similar way to numpy nd arrays\n",
    "x_numpy = np.array([0.1, 0.2, 0.3])\n",
    "x_torch = torch.tensor([0.1, 0.2, 0.3])\n",
    "print('x_numpy, x_torch')\n",
    "print(x_numpy, x_torch)\n",
    "print()\n",
    "\n",
    "# to and from numpy, pytorch\n",
    "print('to and from numpy and pytorch')\n",
    "print(torch.from_numpy(x_numpy), x_torch.numpy())\n",
    "print()\n",
    "\n",
    "# we can do basic operations like +-*/\n",
    "y_numpy = np.array([3, 4, 5.])\n",
    "y_torch = torch.tensor([3, 4, 5])\n",
    "print('x + y')\n",
    "print(x_numpy + y_numpy, x_torch + y_torch)\n",
    "print()\n",
    "\n",
    "# many functions that are in numpy are also in pytorch\n",
    "print(\"norm\")\n",
    "print(np.linalg.norm(x_numpy), torch.norm(x_torch))\n",
    "print()\n",
    "\n",
    "# to apply an operation along a dimension,\n",
    "# we use the dim keyword argument instead of axis\n",
    "print('mean along the 0th dimension')\n",
    "x_numpy = np.array([[1, 2.], [3, 4.]])\n",
    "x_torch = torch.tensor([[1, 2.], [3, 4.]])\n",
    "print(np.mean(x_numpy, axis=0), torch.mean(x_torch, dim=0))"
   ],
   "metadata": {
    "collapsed": false,
    "pycharm": {
     "name": "#%%\n"
    }
   }
  },
  {
   "cell_type": "markdown",
   "source": [
    "## `Tensor.view`\n",
    "We can use the `Tensor.view()` function to reshape tensors similarly to `numpy.reshape()`\n",
    "\n",
    "It can also automatically calculate the correct dimension of `a - 1` is passed in. This is useful if we are working with\n",
    "batches, but the batch size is unknown."
   ],
   "metadata": {
    "collapsed": false,
    "pycharm": {
     "name": "#%% md\n"
    }
   }
  },
  {
   "cell_type": "code",
   "execution_count": 4,
   "outputs": [
    {
     "name": "stdout",
     "output_type": "stream",
     "text": [
      "torch.Size([10000, 3, 28, 28])\n",
      "torch.Size([10000, 3, 784])\n",
      "torch.Size([10000, 3, 784])\n"
     ]
    }
   ],
   "source": [
    "# MNIST\n",
    "N, C, W, H = 10000, 3, 28, 28\n",
    "X = torch.randn((N, C, W, H))\n",
    "\n",
    "print(X.shape)\n",
    "print(X.view(N, C, 784).shape)\n",
    "print(X.view(-1, C, 784).shape)  # automatically choose the 0th dimension"
   ],
   "metadata": {
    "collapsed": false,
    "pycharm": {
     "name": "#%%\n"
    }
   }
  },
  {
   "cell_type": "markdown",
   "source": [
    "## Broadcasting Semantics\n",
    "Two tensors are \"Broadcastable\" if the following rules hold:\n",
    "- Each tensor has at least one dimension\n",
    "- When iterating over the dimension sizes, starting at the trailing dimension, the dimension sizes must either be equal,\n",
    "one of them is 1, or one of them does not exist."
   ],
   "metadata": {
    "collapsed": false,
    "pycharm": {
     "name": "#%% md\n"
    }
   }
  },
  {
   "cell_type": "code",
   "execution_count": 5,
   "outputs": [
    {
     "name": "stdout",
     "output_type": "stream",
     "text": [
      "torch.Size([5, 3, 4, 1])\n"
     ]
    }
   ],
   "source": [
    "# PyTorch operations support NumPy Broadcasting Semantics\n",
    "x = torch.empty(5, 1, 4, 1)\n",
    "y = torch.empty(3, 1, 1)\n",
    "print((x + y).size())"
   ],
   "metadata": {
    "collapsed": false,
    "pycharm": {
     "name": "#%%\n"
    }
   }
  },
  {
   "cell_type": "markdown",
   "source": [
    "## Computation graphs\n",
    "\n",
    "What's special about PyTorch's `tensor` object is that it implicitly creates a computation graph in the background. A\n",
    "computation graph is a way of writing a mathematical expression as a graph. There is an algorithm to compute the gradients\n",
    "of all the variable of a computation graph in time on the same order it is to compute the function itself.\n",
    "\n",
    "Consider the expression $e = (a+b) * (b+1)$ with values $a=2, b=1$. We can draw the evaluated computation graph as in\n",
    "PyTorch, we can write this as\n",
    "\n",
    "[![](https://mermaid.ink/img/eyJjb2RlIjoiZ3JhcGggVERcbiAgICBFKGUgPSBjKmQsZT02KVxuICAgIEMoYyA9IGErYiwgYyA9IDMpXG4gICAgRChkID0gYisxLCBkID0gMilcbiAgICBBKGEsIGE9MilcbiAgICBCKGIsIGI9MSlcbiAgICBBIC0tPiBDXG4gICAgQiAtLT4gQ1xuICAgIEMgLS0-IEVcbiAgICBEIC0tPiBFIiwibWVybWFpZCI6eyJ0aGVtZSI6ImRlZmF1bHQifSwidXBkYXRlRWRpdG9yIjpmYWxzZSwiYXV0b1N5bmMiOnRydWUsInVwZGF0ZURpYWdyYW0iOmZhbHNlfQ)](https://mermaid-js.github.io/mermaid-live-editor/edit#eyJjb2RlIjoiZ3JhcGggVERcbiAgICBFKGUgPSBjKmQsZT02KVxuICAgIEMoYyA9IGErYiwgYyA9IDMpXG4gICAgRChkID0gYisxLCBkID0gMilcbiAgICBBKGEsIGE9MilcbiAgICBCKGIsIGI9MSlcbiAgICBBIC0tPiBDXG4gICAgQiAtLT4gQ1xuICAgIEMgLS0-IEVcbiAgICBEIC0tPiBFIiwibWVybWFpZCI6IntcbiAgXCJ0aGVtZVwiOiBcImRlZmF1bHRcIlxufSIsInVwZGF0ZUVkaXRvciI6ZmFsc2UsImF1dG9TeW5jIjp0cnVlLCJ1cGRhdGVEaWFncmFtIjpmYWxzZX0)"
   ],
   "metadata": {
    "collapsed": false,
    "pycharm": {
     "name": "#%% md\n"
    }
   }
  },
  {
   "cell_type": "code",
   "execution_count": 6,
   "outputs": [
    {
     "name": "stdout",
     "output_type": "stream",
     "text": [
      "3.0\n",
      "2.0\n",
      "6.0\n"
     ]
    }
   ],
   "source": [
    "a = torch.tensor(2.0, requires_grad=True)  # we set requires_grad=True to let PyTorch know to keep the graph\n",
    "b = torch.tensor(1.0, requires_grad=True)\n",
    "c = a + b\n",
    "d = b + 1\n",
    "e = c * d\n",
    "print(f'{c}')\n",
    "print(f'{d}')\n",
    "print(f'{e}')"
   ],
   "metadata": {
    "collapsed": false,
    "pycharm": {
     "name": "#%%\n"
    }
   }
  },
  {
   "cell_type": "markdown",
   "source": [
    "We can see that PyTorch kept track of the computation graph for us."
   ],
   "metadata": {
    "collapsed": false,
    "pycharm": {
     "name": "#%% md\n"
    }
   }
  },
  {
   "cell_type": "markdown",
   "source": [
    "## CUDA Semantics\n",
    "\n",
    "It's easy copy tensor from cpu to gpu or from gpu to cpu."
   ],
   "metadata": {
    "collapsed": false,
    "pycharm": {
     "name": "#%% md\n"
    }
   }
  },
  {
   "cell_type": "code",
   "execution_count": 7,
   "outputs": [
    {
     "name": "stdout",
     "output_type": "stream",
     "text": [
      "tensor([0.3959, 0.6177, 0.7256, 0.0971, 0.9186, 0.8277, 0.4409, 0.9344, 0.8967,\n",
      "        0.1897])\n",
      "tensor([0.3959, 0.6177, 0.7256, 0.0971, 0.9186, 0.8277, 0.4409, 0.9344, 0.8967,\n",
      "        0.1897], device='cuda:0')\n",
      "tensor([0.3959, 0.6177, 0.7256, 0.0971, 0.9186, 0.8277, 0.4409, 0.9344, 0.8967,\n",
      "        0.1897])\n"
     ]
    }
   ],
   "source": [
    "cpu = torch.device(\"cpu\")\n",
    "\n",
    "# on Colab we should set torch.device(\"gpu\"), on personal computer with single GPU we set cuda\n",
    "gpu = torch.device(\"cuda\")\n",
    "\n",
    "x = torch.rand(10)\n",
    "print(x)\n",
    "x = x.to(gpu)\n",
    "print(x)\n",
    "x = x.to(cpu)\n",
    "print(x)"
   ],
   "metadata": {
    "collapsed": false,
    "pycharm": {
     "name": "#%%\n"
    }
   }
  },
  {
   "cell_type": "markdown",
   "source": [
    "## PyTorch as an auto grad framework\n",
    "\n",
    "Now that we have seen PyTorch keeps the graph around for us, let's use it to compute some gradients for us.\n",
    "\n",
    "Consider the function $f(x) = (x-2)^2$\n",
    "\n",
    "Q: Compute $\\frac{df(x)}{dx}$ and then compute $f'(1)$\n",
    "\n",
    "We make a backward() call on the leaf variable(y) in the computation, computing all the gradients of `y` at once."
   ],
   "metadata": {
    "collapsed": false,
    "pycharm": {
     "name": "#%% md\n"
    }
   }
  },
  {
   "cell_type": "code",
   "execution_count": 8,
   "outputs": [
    {
     "name": "stdout",
     "output_type": "stream",
     "text": [
      "Analytical f'(x): tensor([-2.], grad_fn=<MulBackward0>)\n",
      "PyTorch's f'(x): tensor([-2.])\n"
     ]
    }
   ],
   "source": [
    "def f(x):\n",
    "    return (x - 2) ** 2\n",
    "\n",
    "\n",
    "def fp(x):\n",
    "    return 2 * (x - 2)\n",
    "\n",
    "\n",
    "x = torch.tensor([1.0], requires_grad=True)\n",
    "\n",
    "y = f(x)\n",
    "y.backward()\n",
    "\n",
    "print(f'Analytical f\\'(x): {fp(x)}')\n",
    "print(f'PyTorch\\'s f\\'(x): {x.grad}')"
   ],
   "metadata": {
    "collapsed": false,
    "pycharm": {
     "name": "#%%\n"
    }
   }
  },
  {
   "cell_type": "markdown",
   "source": [
    "It can also find gradients of functions.\n",
    "\n",
    "Let $\\omega = [\\omega_1, \\omega_2]^T$\n",
    "\n",
    "Consider $g(\\omega) = 2\\omega_1\\omega_2 + \\omega_2 \\cos(\\omega_1)$\n",
    "\n",
    "Q: Compute $\\nabla_{\\omega}g(\\omega) and verify \\nabla_{\\omega}g([\\pi, 1]) = [2, \\pi - 1]^T$"
   ],
   "metadata": {
    "collapsed": false,
    "pycharm": {
     "name": "#%% md\n"
    }
   }
  },
  {
   "cell_type": "code",
   "source": [
    "def g(w):\n",
    "    return 2 * w[0] * w[1] + w[1] * torch.cos(w[0])\n",
    "\n",
    "\n",
    "def grad_g(w):\n",
    "    return torch.tensor([2 * w[1] - w[1] * torch.sin(w[0]), 2 * w[0] + torch.cos(w[0])])\n",
    "\n",
    "w = torch.tensor([np.pi, 1], requires_grad=True)\n",
    "\n",
    "z = g(w)\n",
    "z.backward()\n",
    "\n",
    "print(f'Analytical grad g(w): {grad_g(w)}')\n",
    "print(f'Pytorch\\s grad(w): {w.grad}')"
   ],
   "metadata": {
    "collapsed": false,
    "pycharm": {
     "name": "#%%\n"
    }
   },
   "execution_count": 9,
   "outputs": [
    {
     "name": "stdout",
     "output_type": "stream",
     "text": [
      "Analytical grad g(w): tensor([2.0000, 5.2832])\n",
      "Pytorch\\s grad(w): tensor([2.0000, 5.2832])\n"
     ]
    }
   ]
  },
  {
   "cell_type": "markdown",
   "source": [
    "## Using the gradients\n",
    "\n",
    "Now that we have gradients, we can use our favorite optimization algorithm, gradient descent!\n",
    "\n",
    "Let $f% the same function we defined above.\n",
    "\n",
    "Q: What is the value of $x$ that minimizes $f$?"
   ],
   "metadata": {
    "collapsed": false,
    "pycharm": {
     "name": "#%% md\n"
    }
   }
  },
  {
   "cell_type": "code",
   "execution_count": 10,
   "outputs": [
    {
     "name": "stdout",
     "output_type": "stream",
     "text": [
      "This is the result: 5.000\n"
     ]
    }
   ],
   "source": [
    "x = torch.tensor([5.0], requires_grad=True)\n",
    "step_size = 0.25\n",
    "\n",
    "print(f'This is the result: {x.item():.3f}')"
   ],
   "metadata": {
    "collapsed": false,
    "pycharm": {
     "name": "#%%\n"
    }
   }
  },
  {
   "cell_type": "code",
   "execution_count": 11,
   "outputs": [
    {
     "name": "stdout",
     "output_type": "stream",
     "text": [
      "iter, \tx, \tf(x), \tf'(x), \tf'(x) pytorch\n",
      "0 \t5.000 \t9.000 \t6.000 \t6.000\n",
      "1 \t3.500 \t2.250 \t3.000 \t3.000\n",
      "2 \t2.750 \t0.562 \t1.500 \t1.500\n",
      "3 \t2.375 \t0.141 \t0.750 \t0.750\n",
      "4 \t2.188 \t0.035 \t0.375 \t0.375\n",
      "5 \t2.094 \t0.009 \t0.188 \t0.188\n",
      "6 \t2.047 \t0.002 \t0.094 \t0.094\n",
      "7 \t2.023 \t0.001 \t0.047 \t0.047\n",
      "8 \t2.012 \t0.000 \t0.023 \t0.023\n",
      "9 \t2.006 \t0.000 \t0.012 \t0.012\n",
      "10 \t2.003 \t0.000 \t0.006 \t0.006\n",
      "11 \t2.001 \t0.000 \t0.003 \t0.003\n",
      "12 \t2.001 \t0.000 \t0.001 \t0.001\n",
      "13 \t2.000 \t0.000 \t0.001 \t0.001\n",
      "14 \t2.000 \t0.000 \t0.000 \t0.000\n"
     ]
    }
   ],
   "source": [
    "print('iter, \\tx, \\tf(x), \\tf\\'(x), \\tf\\'(x) pytorch')\n",
    "for i in range(15):\n",
    "    y = f(x)\n",
    "    y.backward()  # compute the gradient\n",
    "\n",
    "    # print(\"{}, \\t{:.3f}, \\t{:.3f}, \\t{:.3f}, \\t{:.3f}\".format(i, x.item(), f(x).item(), fp(x).item, x.grad.item()))\n",
    "    print(f'{i} \\t{x.item():.3f} \\t{f(x).item():.3f} \\t{fp(x).item():.3f} \\t{x.grad.item():.3f}')\n",
    "    x.data = x.data - step_size * x.grad  # perform a GD update step\n",
    "\n",
    "    # We need to zero the grad variable since the backward()\n",
    "    # call accumulates the gradients in .grad instead of overwriting.\n",
    "    # The detach_() is for efficiency. You do not need to worry to much about it.\n",
    "    x.grad.detach_()\n",
    "    x.grad.zero_()"
   ],
   "metadata": {
    "collapsed": false,
    "pycharm": {
     "name": "#%%\n"
    }
   }
  },
  {
   "cell_type": "markdown",
   "source": [
    "## Linear Regression\n",
    "\n",
    "Now, instead of minimizing a made-up function, let's minimize a loss function on some made-up data.\n",
    "\n",
    "We will implement Gradient Descent in order to solve the task of linear regression.\n"
   ],
   "metadata": {
    "collapsed": false,
    "pycharm": {
     "name": "#%% md\n"
    }
   }
  },
  {
   "cell_type": "code",
   "execution_count": 12,
   "outputs": [
    {
     "name": "stdout",
     "output_type": "stream",
     "text": [
      "X shape torch.Size([50, 2])\n",
      "y shape torch.Size([50, 1])\n",
      "w shape torch.Size([2, 1])\n"
     ]
    }
   ],
   "source": [
    "# make a simple linear dataset with some noise\n",
    "d = 2\n",
    "n = 50\n",
    "X = torch.randn(n, d)\n",
    "true_w = torch.tensor([[-1.0], [2.0]])\n",
    "y = X @ true_w + torch.randn(n, 1) * 0.1\n",
    "\n",
    "print('X shape', X.shape)\n",
    "print('y shape', y.shape)\n",
    "print('w shape', true_w.shape)"
   ],
   "metadata": {
    "collapsed": false,
    "pycharm": {
     "name": "#%%\n"
    }
   }
  },
  {
   "cell_type": "markdown",
   "source": [
    "### Note: dimensions\n",
    "\n",
    "PyTorch does a lot of operations on batches of data. The convention is to have your data be of size $(N, d)$ where $N$ is\n",
    "the size of the batch of data.\n",
    "\n",
    "## Sanity check\n",
    "\n",
    "To verify PyTorch is computing the gradients correctly, let's recall the gradient for the RSS objective:\n",
    "\n",
    "$\n",
    "\\nabla L_{RSS}(\\omega, X) = \\nabla_{\\omega}\\frac{1}{n}||y-X\\omega||_{2}^{2} = -\\frac{2}{n}X^T(y-X\\omega)\n",
    "$"
   ],
   "metadata": {
    "collapsed": false,
    "pycharm": {
     "name": "#%% md\n"
    }
   }
  },
  {
   "cell_type": "code",
   "execution_count": 13,
   "outputs": [
    {
     "name": "stdout",
     "output_type": "stream",
     "text": [
      "Analytical gradient [ 4.342543  -3.5023162]\n",
      "PyTorch's gradient [ 4.342543 -3.502316]\n"
     ]
    }
   ],
   "source": [
    "# define a linear model with no bias\n",
    "def model(X, w):\n",
    "    return X @ w\n",
    "\n",
    "# the residual sum of squares loss function\n",
    "def rss(y, y_hat):\n",
    "    return torch.norm(y - y_hat)**2 / n\n",
    "\n",
    "# analytical expression for the gradient\n",
    "def grad_rss(X, y, w):\n",
    "    return -2 * X.t() @ (y - X @ w) / n\n",
    "\n",
    "w = torch.tensor([[1.], [0]], requires_grad=True)\n",
    "y_hat = model(X, w)\n",
    "\n",
    "loss = rss(y, y_hat)\n",
    "loss.backward()\n",
    "\n",
    "print('Analytical gradient', grad_rss(X, y, w).detach().view(2).numpy())\n",
    "print('PyTorch\\'s gradient', w.grad.view(2).numpy())"
   ],
   "metadata": {
    "collapsed": false,
    "pycharm": {
     "name": "#%%\n"
    }
   }
  },
  {
   "cell_type": "markdown",
   "source": [
    "Now that we've seen PyTorch is doing the right think, let's use the gradients!"
   ],
   "metadata": {
    "collapsed": false,
    "pycharm": {
     "name": "#%% md\n"
    }
   }
  },
  {
   "cell_type": "markdown",
   "source": [
    "## Linear regression using GD with automatically computed derivatives\n",
    "\n",
    "We will now use the gradients to run the gradient descent algorithm.\n",
    "\n",
    "Note: This example is an illustration to connect ideas we have seen before to PyTorch's way of doing things. We will see how\n",
    "to do this in the 'PyTorchic\" way in the next example."
   ],
   "metadata": {
    "collapsed": false,
    "pycharm": {
     "name": "#%% md\n"
    }
   }
  },
  {
   "cell_type": "code",
   "execution_count": 14,
   "outputs": [
    {
     "name": "stdout",
     "output_type": "stream",
     "text": [
      "iter,\tloss,\tw\n",
      "0\t7.82\t[0.13149136 0.70046324]\n",
      "1\t2.84\t[-0.11822014  0.9229876 ]\n",
      "2\t1.84\t[-0.31444427  1.1054724 ]\n",
      "3\t1.19\t[-0.4684834  1.2552956]\n",
      "4\t0.77\t[-0.58927345  1.3784461 ]\n",
      "5\t0.50\t[-0.68387645  1.4797904 ]\n",
      "6\t0.33\t[-0.75787055  1.563287  ]\n",
      "7\t0.22\t[-0.8156596  1.632159 ]\n",
      "8\t0.15\t[-0.86071837  1.6890337 ]\n",
      "9\t0.10\t[-0.89578694  1.736055  ]\n",
      "10\t0.07\t[-0.9230244  1.7749742]\n",
      "11\t0.05\t[-0.94413096  1.8072236 ]\n",
      "12\t0.03\t[-0.9604442  1.8339758]\n",
      "13\t0.02\t[-0.9730157  1.8561921]\n",
      "14\t0.02\t[-0.9826713  1.8746614]\n",
      "15\t0.01\t[-0.99005884  1.8900318 ]\n",
      "16\t0.01\t[-0.99568594  1.9028363 ]\n",
      "17\t0.01\t[-0.99994993  1.913514  ]\n",
      "18\t0.01\t[-1.0031612  1.9224268]\n",
      "19\t0.01\t[-1.0055621  1.9298735]\n",
      "\n",
      "True w\t\t [-1.  2.]\n",
      "estimated w\t [-1.0055621  1.9298735]\n"
     ]
    }
   ],
   "source": [
    "step_size = 0.1\n",
    "print('iter,\\tloss,\\tw')\n",
    "for i in range(20):\n",
    "    y_hat = model(X, w)\n",
    "    loss = rss(y, y_hat)\n",
    "\n",
    "    loss.backward()  # compute the gradient of the loss\n",
    "\n",
    "    w.data = w.data - step_size * w.grad  # do a gradient descent step\n",
    "\n",
    "    print(f'{i}\\t{loss.item():.2f}\\t{w.view(2).detach().numpy()}')\n",
    "\n",
    "    # We need to zero the grad variable since the backward() call accumulates the gradients in .grad instead of overwriting.\n",
    "    # The detach() is for efficiency. You do not need to worry too much about it.\n",
    "    w.grad.detach()\n",
    "    w.grad.zero_()\n",
    "\n",
    "print('\\nTrue w\\t\\t', true_w.view(2).numpy())\n",
    "print('estimated w\\t', w.view(2).detach().numpy())"
   ],
   "metadata": {
    "collapsed": false,
    "pycharm": {
     "name": "#%%\n"
    }
   }
  },
  {
   "cell_type": "markdown",
   "source": [
    "## torch.nn.Module\n",
    "\n",
    "Module is PyTorch's way of performing operation on tensors. Modules are implemented as subclasses of the `torch.nn.Module` class.\n",
    "All modules are callable and can be composed together to create complex functions.\n",
    "\n",
    "[torch.nn.docs](https://pytorch.org/docs/stable/nn.html)\n",
    "\n",
    "Note: most of the functionality implemented for modules can be accessed in a functional form via `torch.nn.functional` but\n",
    "these require you to create and manage the weight tensors yourself.\n",
    "\n",
    "[torch.nn.functional](https://pytorch.org/docs/stable/nn.functional.html)"
   ],
   "metadata": {
    "collapsed": false
   }
  },
  {
   "cell_type": "markdown",
   "source": [
    "## Linear Module\n",
    "\n",
    "The bread and butter of modules is the Linear module which does a linear transformation with a bias. It takes the input and\n",
    "output dimensions as parameters, and creates the weights in the object.\n",
    "\n",
    "Unlike how we initialized our $\\omega$ manually, the Linear module automatically initializes the weights randomly. For minimizing\n",
    "non convex loss functions (e.g. training neural networks), initialization is important and can affect results. If training isn't working\n",
    "as well as expected, one thing to try is manually initializing the weights to something different from the default. PyTorch\n",
    "implements some common initializations in `torch.nn.init`.\n",
    "\n",
    "(torch.nn.imit.docs)[https://pytorch.org/docs/stable/nn.init.html]"
   ],
   "metadata": {
    "collapsed": false,
    "pycharm": {
     "name": "#%% md\n"
    }
   }
  },
  {
   "cell_type": "code",
   "execution_count": 15,
   "outputs": [
    {
     "name": "stdout",
     "output_type": "stream",
     "text": [
      "example_tensor torch.Size([2, 3])\n",
      "transformed torch.Size([2, 4])\n",
      "\n",
      "We can see that the weights exist in the background\n",
      "\n",
      "W: Parameter containing:\n",
      "tensor([[ 0.5260,  0.4925, -0.0887],\n",
      "        [ 0.3944,  0.4080,  0.2182],\n",
      "        [-0.1409,  0.0518,  0.3034],\n",
      "        [ 0.0913,  0.2452, -0.2616]], requires_grad=True)\n",
      "b: Parameter containing:\n",
      "tensor([0.5021, 0.0118, 0.1383, 0.4757], requires_grad=True)\n"
     ]
    }
   ],
   "source": [
    "from torch import nn\n",
    "\n",
    "d_in = 3\n",
    "d_out = 4\n",
    "linear_module = nn.Linear(d_in, d_out)\n",
    "\n",
    "example_tensor = torch.tensor(([[1., 2, 3], [4., 5, 6]]))\n",
    "#  applys a linear transformation to the data\n",
    "transformed = linear_module(example_tensor)\n",
    "\n",
    "print('example_tensor', example_tensor.shape)\n",
    "print('transformed', transformed.shape)\n",
    "print()\n",
    "print('We can see that the weights exist in the background\\n')\n",
    "print('W:', linear_module.weight)\n",
    "print('b:', linear_module.bias)"
   ],
   "metadata": {
    "collapsed": false,
    "pycharm": {
     "name": "#%%\n"
    }
   }
  },
  {
   "cell_type": "markdown",
   "source": [
    "## Activation functions\n",
    "\n",
    "PyTorch implements a number of activation functions including but not limited to ReLU, Tanh, and Sigmoid. Since they are\n",
    "modules, they need to be instantiated."
   ],
   "metadata": {
    "collapsed": false,
    "pycharm": {
     "name": "#%% md\n"
    }
   }
  },
  {
   "cell_type": "code",
   "execution_count": 16,
   "outputs": [
    {
     "name": "stdout",
     "output_type": "stream",
     "text": [
      "example_tensor tensor([-1.,  1.,  0.])\n",
      "activated tensor([0., 1., 0.])\n"
     ]
    }
   ],
   "source": [
    "activation_fn = nn.ReLU()  # we instantiate an instance of the ReLU module\n",
    "example_tensor = torch.tensor([-1.0, 1.0, 0.0])\n",
    "activated = activation_fn(example_tensor)\n",
    "print('example_tensor', example_tensor)\n",
    "print('activated', activated)"
   ],
   "metadata": {
    "collapsed": false,
    "pycharm": {
     "name": "#%%\n"
    }
   }
  },
  {
   "cell_type": "markdown",
   "source": [
    "## Sequential\n",
    "\n",
    "Many times, we want to compose Modules together. `torch.nn.Sequential` provides a good interface for composing simple modules."
   ],
   "metadata": {
    "collapsed": false,
    "pycharm": {
     "name": "#%% md\n"
    }
   }
  },
  {
   "cell_type": "code",
   "execution_count": 17,
   "outputs": [
    {
     "name": "stdout",
     "output_type": "stream",
     "text": [
      "transformed torch.Size([2, 1])\n"
     ]
    }
   ],
   "source": [
    "d_in = 3\n",
    "d_hidden = 4\n",
    "d_out = 1\n",
    "model = torch.nn.Sequential(\n",
    "    nn.Linear(d_in, d_hidden),\n",
    "    nn.Tanh(),\n",
    "    nn.Linear(d_hidden, d_out),\n",
    "    nn.Sigmoid()\n",
    ")\n",
    "\n",
    "# below codes are equivalent\n",
    "# linear = nn.Linear(d_in, d_hidden)\n",
    "# tahn = nn.Tanh()\n",
    "# linear_2 = nn.Linear(d_hidden, d_out)\n",
    "# sigmod = nn.Sigmoid()\n",
    "#\n",
    "# x = linear(x)\n",
    "# x = tahn(x)\n",
    "# x = linear_2(x)\n",
    "# x = sigmod\n",
    "\n",
    "example_tensor = torch.tensor([[1., 2, 3], [4, 5, 6]])\n",
    "transformed = model(example_tensor)\n",
    "print('transformed', transformed.shape)"
   ],
   "metadata": {
    "collapsed": false,
    "pycharm": {
     "name": "#%%\n"
    }
   }
  },
  {
   "cell_type": "markdown",
   "source": [
    "Note: we can access all of the parameters (of any `nn.Module`) with the parameters() method."
   ],
   "metadata": {
    "collapsed": false
   }
  },
  {
   "cell_type": "code",
   "execution_count": 18,
   "outputs": [
    {
     "name": "stdout",
     "output_type": "stream",
     "text": [
      "Parameter containing:\n",
      "tensor([[-0.3128,  0.2707, -0.3952],\n",
      "        [ 0.1285,  0.1777, -0.4675],\n",
      "        [ 0.0452, -0.5630, -0.1999],\n",
      "        [ 0.5431,  0.0524,  0.1126]], requires_grad=True)\n",
      "Parameter containing:\n",
      "tensor([ 0.2683, -0.2361,  0.2769, -0.1380], requires_grad=True)\n",
      "Parameter containing:\n",
      "tensor([[ 0.4902, -0.0928, -0.2907,  0.0734]], requires_grad=True)\n",
      "Parameter containing:\n",
      "tensor([-0.0394], requires_grad=True)\n"
     ]
    }
   ],
   "source": [
    "params = model.parameters()\n",
    "for param in params:\n",
    "    print(param)"
   ],
   "metadata": {
    "collapsed": false,
    "pycharm": {
     "name": "#%%\n"
    }
   }
  },
  {
   "cell_type": "markdown",
   "source": [
    "## Loss functions\n",
    "\n",
    "PyTorch implements many common loss functions including MSELoss and CrossEntropyLoss"
   ],
   "metadata": {
    "collapsed": false
   }
  },
  {
   "cell_type": "code",
   "execution_count": 19,
   "outputs": [
    {
     "name": "stdout",
     "output_type": "stream",
     "text": [
      "tensor(0.6667)\n"
     ]
    }
   ],
   "source": [
    "mse_loss_fn = nn.MSELoss()\n",
    "\n",
    "input_t = torch.tensor([0., 0, 0])\n",
    "target = torch.tensor([1., 0, -1])\n",
    "\n",
    "loss = mse_loss_fn(input_t, target)\n",
    "\n",
    "print(loss)"
   ],
   "metadata": {
    "collapsed": false,
    "pycharm": {
     "name": "#%%\n"
    }
   }
  },
  {
   "cell_type": "markdown",
   "source": [
    "## `troch.optim`\n",
    "\n",
    "PyTorch implements a number of gradient-based optimization methods in `torch.optim`, including Gradient Descent. At the minimum,\n",
    "it takes in the model parameters and a learning rate.\n",
    "\n",
    "Optimizers do not compute the gradients for you, so you must call `backward()` yourself. You also must call the `optim.zero_grad()` function\n",
    "before calling `backward()` since by default PyTorch does and inplace add to the `.grad` member variable rather than overwriting it.\n",
    "\n",
    "This does both the `detach()` and `zero()` calls on all tensor's grad variables.\n",
    "\n",
    "(torch.optim.docs)[https://pytorch.org/docs/stable/optim.html]"
   ],
   "metadata": {
    "collapsed": false,
    "pycharm": {
     "name": "#%% md\n"
    }
   }
  },
  {
   "cell_type": "code",
   "execution_count": 20,
   "outputs": [
    {
     "name": "stdout",
     "output_type": "stream",
     "text": [
      "model params before: Parameter containing:\n",
      "tensor([[-0.4950]], requires_grad=True)\n",
      "model params after Parameter containing:\n",
      "tensor([[-0.4427]], requires_grad=True)\n"
     ]
    }
   ],
   "source": [
    "# create a simple model\n",
    "model = nn.Linear(1, 1)\n",
    "\n",
    "# create a simple dataset\n",
    "X_simple = torch.tensor([[1.]])\n",
    "y_simple = torch.tensor([[2.]])\n",
    "\n",
    "# create our optimizer\n",
    "optim = torch.optim.SGD(model.parameters(), lr=1e-2)\n",
    "mse_loss_fn = nn.MSELoss()\n",
    "\n",
    "y_hat = model(X_simple)\n",
    "print('model params before:', model.weight)\n",
    "loss = mse_loss_fn(y_hat, y_simple)\n",
    "optim.zero_grad()\n",
    "loss.backward()\n",
    "optim.step()\n",
    "print('model params after', model.weight)"
   ],
   "metadata": {
    "collapsed": false,
    "pycharm": {
     "name": "#%%\n"
    }
   }
  },
  {
   "cell_type": "markdown",
   "source": [
    "As we can see, the parameter was updated in the correct direction"
   ],
   "metadata": {
    "collapsed": false
   }
  },
  {
   "cell_type": "markdown",
   "source": [
    "## Linear regression using GD with automatically computed derivatives and PyTorch's Modules\n",
    "\n",
    "Now let's combine what we've learned to solve linear regression in a \"PyTorchic\" way."
   ],
   "metadata": {
    "collapsed": false,
    "pycharm": {
     "name": "#%% md\n"
    }
   }
  },
  {
   "cell_type": "code",
   "execution_count": 21,
   "outputs": [
    {
     "name": "stdout",
     "output_type": "stream",
     "text": [
      "iter,\tloss,\tw\n",
      "0\t2.99\t[-0.5453574   0.51412684]\n",
      "1\t2.02\t[-0.666086    0.75222915]\n",
      "2\t1.37\t[-0.75831056  0.9504565 ]\n",
      "3\t0.94\t[-0.82842976  1.1156546 ]\n",
      "4\t0.64\t[-0.8814486  1.2534634]\n",
      "5\t0.44\t[-0.92127615  1.3685349 ]\n",
      "6\t0.31\t[-0.9509604  1.4647106]\n",
      "7\t0.22\t[-0.9728737  1.5451664]\n",
      "8\t0.15\t[-0.98885876  1.6125307 ]\n",
      "9\t0.11\t[-1.0003437  1.6689818]\n",
      "10\t0.08\t[-1.0084321  1.7163262]\n",
      "11\t0.06\t[-1.0139749  1.7560644]\n",
      "12\t0.04\t[-1.0176253  1.7894436]\n",
      "13\t0.03\t[-1.0198835  1.8175017]\n",
      "14\t0.02\t[-1.0211303  1.8411033]\n",
      "15\t0.02\t[-1.0216544  1.8609697]\n",
      "16\t0.02\t[-1.0216731  1.8777025]\n",
      "17\t0.01\t[-1.0213491  1.8918046]\n",
      "18\t0.01\t[-1.020803   1.9036964]\n",
      "19\t0.01\t[-1.020123   1.9137299]\n",
      "\n",
      "True w\t\t [-1.  2.]\n",
      "estimated w\t [-1.020123   1.9137299]\n"
     ]
    }
   ],
   "source": [
    "step_size = 0.1\n",
    "\n",
    "linear_module = nn.Linear(d, 1, bias=False)\n",
    "\n",
    "loss_func = nn.MSELoss()\n",
    "\n",
    "optim = torch.optim.SGD(linear_module.parameters(), lr=step_size)\n",
    "\n",
    "print('iter,\\tloss,\\tw')\n",
    "\n",
    "for i in range(20):\n",
    "    y_hat = linear_module(X)\n",
    "    loss = loss_func(y_hat, y)\n",
    "    optim.zero_grad()\n",
    "    loss.backward()\n",
    "    optim.step()\n",
    "\n",
    "    print(f'{i}\\t{loss.item():.2f}\\t{linear_module.weight.view(2).detach().numpy()}')\n",
    "\n",
    "print('\\nTrue w\\t\\t', true_w.view(2).numpy())\n",
    "print('estimated w\\t', linear_module.weight.view(2).detach().numpy())"
   ],
   "metadata": {
    "collapsed": false,
    "pycharm": {
     "name": "#%%\n"
    }
   }
  },
  {
   "cell_type": "markdown",
   "source": [
    "## Linear regression using SGD\n",
    "\n",
    "In the previous examples, we computed the average gradient over the entire dataset(Gradient Descent). We can implement\n",
    "Stochastic Gradient Descent with a simple modification."
   ],
   "metadata": {
    "collapsed": false,
    "pycharm": {
     "name": "#%% md\n"
    }
   }
  },
  {
   "cell_type": "code",
   "execution_count": 22,
   "outputs": [
    {
     "name": "stdout",
     "output_type": "stream",
     "text": [
      "iter,\tloss,\tw\n",
      "0,\t4.46,\t[-0.20530999  0.66900945]\n",
      "20,\t1.28,\t[-0.3492172  0.8908058]\n",
      "40,\t0.73,\t[-0.513422   1.1883926]\n",
      "60,\t0.51,\t[-0.6704745  1.5351907]\n",
      "80,\t0.16,\t[-0.7813061  1.6464837]\n",
      "100,\t0.20,\t[-0.8568147  1.7569876]\n",
      "120,\t0.03,\t[-0.90830195  1.8347709 ]\n",
      "140,\t0.00,\t[-0.9449066  1.888105 ]\n",
      "160,\t0.00,\t[-0.96574944  1.9163204 ]\n",
      "180,\t0.01,\t[-0.98202056  1.9221277 ]\n",
      "\n",
      "True w\t\t [-1.  2.]\n",
      "estimated w\t [-0.98299205  1.9443793 ]\n"
     ]
    }
   ],
   "source": [
    "step_size = 0.01\n",
    "\n",
    "linear_module = nn.Linear(d, 1)\n",
    "loss_func = nn.MSELoss()\n",
    "optim = torch.optim.SGD(linear_module.parameters(), lr=step_size)\n",
    "print('iter,\\tloss,\\tw')\n",
    "for i in range(200):\n",
    "    rand_idx = np.random.choice(n)  # take a random point from the dataset\n",
    "    x = X[rand_idx]\n",
    "    y_hat = linear_module(x)\n",
    "    loss = loss_func(y_hat, y[rand_idx])  # only compute the loss on the single point\n",
    "    optim.zero_grad()\n",
    "    loss.backward()\n",
    "    optim.step()\n",
    "\n",
    "    if i % 20 == 0:\n",
    "        print(f'{i},\\t{loss.item():.2f},\\t{linear_module.weight.view(2).detach().numpy()}')\n",
    "\n",
    "print('\\nTrue w\\t\\t', true_w.view(2).numpy())\n",
    "print('estimated w\\t', linear_module.weight.view(2).detach().numpy())"
   ],
   "metadata": {
    "collapsed": false,
    "pycharm": {
     "name": "#%%\n"
    }
   }
  },
  {
   "cell_type": "markdown",
   "source": [
    "## Neural Network Basics in PyTorch\n",
    "\n",
    "Let's consider the dataset from hw3. We will try and fit a simple neural network to the data."
   ],
   "metadata": {
    "collapsed": false
   }
  },
  {
   "cell_type": "code",
   "execution_count": 23,
   "outputs": [
    {
     "data": {
      "text/plain": "<Figure size 432x288 with 1 Axes>",
      "image/png": "[encoded data removed]"
     },
     "metadata": {
      "needs_background": "light"
     },
     "output_type": "display_data"
    }
   ],
   "source": [
    "import matplotlib.pyplot as plt\n",
    "%matplotlib inline\n",
    "\n",
    "d = 1\n",
    "n = 200\n",
    "X = torch.rand(n, d)\n",
    "y = 4 * torch.sin(np.pi * X) * torch.cos(6 * np.pi * X ** 2)\n",
    "\n",
    "plt.scatter(X.numpy(), y.numpy())\n",
    "plt.title('plot of $f(x)$')\n",
    "plt.xlabel('$x$')\n",
    "plt.ylabel('$y$')\n",
    "\n",
    "plt.show()"
   ],
   "metadata": {
    "collapsed": false,
    "pycharm": {
     "name": "#%%\n"
    }
   }
  },
  {
   "cell_type": "markdown",
   "source": [
    "Here we define a simple two hidden layer neural network with Tanh activations. There are a few hyper parameters to play with\n",
    "to get a feel for how they change the results."
   ],
   "metadata": {
    "collapsed": false,
    "pycharm": {
     "name": "#%% md\n"
    }
   }
  },
  {
   "cell_type": "code",
   "execution_count": 24,
   "outputs": [
    {
     "name": "stdout",
     "output_type": "stream",
     "text": [
      "iter,\tloss\n",
      "0,\t3.99\n",
      "600,\t3.70\n",
      "1200,\t2.45\n",
      "1800,\t1.13\n",
      "2400,\t0.93\n",
      "3000,\t0.70\n",
      "3600,\t0.29\n",
      "4200,\t0.09\n",
      "4800,\t0.08\n",
      "5400,\t0.07\n"
     ]
    }
   ],
   "source": [
    "# feel free to play with these parameters\n",
    "\n",
    "step_size = 0.05\n",
    "n_epochs = 6000\n",
    "n_hidden_1 = 32\n",
    "n_hidden_2 = 32\n",
    "d_out = 1\n",
    "\n",
    "neural_network = nn.Sequential(\n",
    "    nn.Linear(d, n_hidden_1),\n",
    "    nn.Tanh(),\n",
    "    nn.Linear(n_hidden_1, n_hidden_2),\n",
    "    nn.Tanh(),\n",
    "    nn.Linear(n_hidden_2, d_out)\n",
    ")\n",
    "\n",
    "loss_func = nn.MSELoss()\n",
    "\n",
    "optim = torch.optim.SGD(neural_network.parameters(), lr=step_size)\n",
    "print('iter,\\tloss')\n",
    "for i in range(n_epochs):\n",
    "    y_hat = neural_network(X)\n",
    "    loss = loss_func(y_hat, y)\n",
    "    optim.zero_grad()\n",
    "    loss.backward()\n",
    "    optim.step()\n",
    "\n",
    "    if i % (n_epochs // 10) == 0:\n",
    "        print(f'{i},\\t{loss.item():.2f}')"
   ],
   "metadata": {
    "collapsed": false,
    "pycharm": {
     "name": "#%%\n"
    }
   }
  },
  {
   "cell_type": "code",
   "execution_count": 25,
   "outputs": [
    {
     "data": {
      "text/plain": "<Figure size 432x288 with 1 Axes>",
      "image/png": "[encoded data removed]"
     },
     "metadata": {
      "needs_background": "light"
     },
     "output_type": "display_data"
    }
   ],
   "source": [
    "X_grid = torch.from_numpy(np.linspace(0,1,50)).float().view(-1, d)\n",
    "y_hat = neural_network(X_grid)\n",
    "plt.scatter(X.numpy(), y.numpy())\n",
    "plt.plot(X_grid.detach().numpy(), y_hat.detach().numpy(), 'r')\n",
    "plt.title('plot of $f(x)$ and $\\hat{f}(x)$')\n",
    "plt.xlabel('$x$')\n",
    "plt.xlabel('$y$')\n",
    "plt.show()"
   ],
   "metadata": {
    "collapsed": false,
    "pycharm": {
     "name": "#%%\n"
    }
   }
  },
  {
   "cell_type": "markdown",
   "source": [
    "## Things might help on the homework\n",
    "There are other optimization algorithms besides stochastic gradient descent. One is a modification of SGD called momentum.\n",
    "We won't get into it here, but if you would like to read more, [here](https://d2l.ai/chapter_optimization/momentum.html) is a good place to start.\n",
    "\n",
    "We only change the step size and add the momentum keyword argument to the optimizer. Notice how it reduces the training loss\n",
    "in fewer iterations."
   ],
   "metadata": {
    "collapsed": false,
    "pycharm": {
     "name": "#%% md\n"
    }
   }
  },
  {
   "cell_type": "code",
   "execution_count": 26,
   "outputs": [
    {
     "name": "stdout",
     "output_type": "stream",
     "text": [
      "iter,\tloss\n",
      "0,\t3.98\n",
      "150,\t2.77\n",
      "300,\t0.84\n",
      "450,\t0.26\n",
      "600,\t0.06\n",
      "750,\t0.06\n",
      "900,\t0.01\n",
      "1050,\t0.00\n",
      "1200,\t0.00\n",
      "1350,\t0.00\n"
     ]
    }
   ],
   "source": [
    "# feel free to play with these parameters\n",
    "\n",
    "step_size = 0.05\n",
    "momentum = 0.9\n",
    "n_epochs = 1500\n",
    "n_hidden_1 = 32\n",
    "n_hidden_2 = 32\n",
    "d_out = 1\n",
    "\n",
    "neural_network = nn.Sequential(\n",
    "    nn.Linear(d, n_hidden_1),\n",
    "    nn.Tanh(),\n",
    "    nn.Linear(n_hidden_1, n_hidden_2),\n",
    "    nn.Tanh(),\n",
    "    nn.Linear(n_hidden_2, d_out)\n",
    ")\n",
    "\n",
    "loss_func = nn.MSELoss()\n",
    "\n",
    "optim = torch.optim.SGD(neural_network.parameters(), lr=step_size, momentum=momentum)\n",
    "print('iter,\\tloss')\n",
    "for i in range(n_epochs):\n",
    "    y_hat = neural_network(X)\n",
    "    loss = loss_func(y_hat, y)\n",
    "    optim.zero_grad()\n",
    "    loss.backward()\n",
    "    optim.step()\n",
    "\n",
    "    if i % (n_epochs // 10) == 0:\n",
    "        print(f'{i},\\t{loss.item():.2f}')"
   ],
   "metadata": {
    "collapsed": false,
    "pycharm": {
     "name": "#%%\n"
    }
   }
  },
  {
   "cell_type": "code",
   "execution_count": 27,
   "outputs": [
    {
     "data": {
      "text/plain": "<Figure size 432x288 with 1 Axes>",
      "image/png": "[encoded data removed]"
     },
     "metadata": {
      "needs_background": "light"
     },
     "output_type": "display_data"
    }
   ],
   "source": [
    "X_grid = torch.from_numpy(np.linspace(0,1,50)).float().view(-1, d)\n",
    "y_hat = neural_network(X_grid)\n",
    "plt.scatter(X.numpy(), y.numpy())\n",
    "plt.plot(X_grid.detach().numpy(), y_hat.detach().numpy(), 'r')\n",
    "plt.title('plot of $f(x)$ and $\\hat{f}(x)$')\n",
    "plt.xlabel('$x$')\n",
    "plt.xlabel('$y$')\n",
    "plt.show()"
   ],
   "metadata": {
    "collapsed": false,
    "pycharm": {
     "name": "#%%\n"
    }
   }
  },
  {
   "cell_type": "markdown",
   "source": [
    "## CrossEntropyLoss\n",
    "\n",
    "So far, we have been considering regression tasks and have used the `MSELoss` module. For the homework, we will be performing\n",
    "a classification task and will use the cross entropy loss.\n",
    "\n",
    "PyTorch implements a version of the cross entropy loss in one module called `CrossEntropyLoss`. Its usage is slightly\n",
    "different than MSE, so we will break it down here.\n",
    "\n",
    "* input: The first parameter to CrossEntropyLoss is the output of our network. It expects a real valued tensor of dimensions($N, C$)\n",
    "where $N$ is the minibatch size and $C$ is the number of classes. In our case $N=3$ and $C=2$. The values along the second\n",
    "dimension correspond to raw unnormalized scores for each class. The CrossEntropyLoss module does the softmax calculation for us,\n",
    "so we do not need to apply our own softmax to the output of our neural network.\n",
    "* output: The second parameter to CrossEntropyLoss is the true label. It expects an integer valued tensor of dimension($N$). The integer\n",
    "* at each element corresponds to the correct class. In our case, the \"correct\" class labels are class 0, class 1, and class -1.\n",
    "\n",
    "Try out the loss function on three toy predictions. The true class labels are $y=[1,1,0]$. The first two examples correspond to predictions\n",
    "that are \"correct\" in that they have higher raw scores for the correct class. The second example is \"more confident\" in the prediction, leading\n",
    "to a smaller loss. The last two examples are incorrect predictions with lower and higher confidence respectively."
   ],
   "metadata": {
    "collapsed": false,
    "pycharm": {
     "name": "#%% md\n"
    }
   }
  },
  {
   "cell_type": "code",
   "execution_count": 28,
   "outputs": [
    {
     "name": "stdout",
     "output_type": "stream",
     "text": [
      "tensor(0.1269)\n"
     ]
    }
   ],
   "source": [
    "loss = nn.CrossEntropyLoss()\n",
    "input = torch.tensor([[-1., 1], [-1, 1], [1, -1]])  # raw scores correspond to the correct class\n",
    "# input = torch.tensor([[-3., 3], [-3, 3], [3, -3]])  # raw scores correspond to the correct class with higher confidence\n",
    "# input = torch.tensor([[1., -1], [1, -1], [-1, 1]])  # raw scores correspond to the incorrect class\n",
    "# input = torch.tensor([[3., -3], [3, -3], [-3, 3]])  # raw scores correspond to the incorrect class with incorrectly placed confidence\n",
    "\n",
    "target = torch.tensor([1, 1, 0])\n",
    "output = loss(input, target)\n",
    "print(output)"
   ],
   "metadata": {
    "collapsed": false,
    "pycharm": {
     "name": "#%%\n"
    }
   }
  },
  {
   "cell_type": "markdown",
   "source": [
    "## Convolutions\n",
    "\n",
    "When working with images, we often want to use convolutions to extract features using convolutions. PyTorch implements this\n",
    "for us in the `torch.nn.Conv2d` module. It expects the input to have a specific dimension ($N, C_{in}, H_{in}, W_{in})$\n",
    "where $N$ is batch size, $C_{in}$ is the number of channels the image has, and $H_{in}, W_{in}$ are the image height and\n",
    "width respectively.\n",
    "\n",
    "We can modify the convolution to have different properties with the parameters:\n",
    "* kernel_size\n",
    "* stride\n",
    "* padding\n",
    "\n",
    "They can change the output dimension so be careful.\n",
    "\n",
    "See the [torch.nn.Conv2d.docs](https://pytorch.org/docs/stable/generated/torch.nn.Conv2d.html) for more information."
   ],
   "metadata": {
    "collapsed": false,
    "pycharm": {
     "name": "#%% md\n"
    }
   }
  },
  {
   "cell_type": "markdown",
   "source": [
    "To illustrate what the Conv2d module is doing. Let's set the conv weights manually to a Gaussian blur kernel.\n",
    "\n",
    "We can see that it applies the kernel to the image."
   ],
   "metadata": {
    "collapsed": false,
    "pycharm": {
     "name": "#%% md\n"
    }
   }
  },
  {
   "cell_type": "code",
   "execution_count": 29,
   "outputs": [],
   "source": [
    "from PIL import Image\n",
    "\n",
    "I = Image.open('./mnist/train/3/7.png')\n",
    "image = np.array(I).astype(np.float32)\n",
    "image_torch = torch.from_numpy(image).view(1,1,28,28)"
   ],
   "metadata": {
    "collapsed": false,
    "pycharm": {
     "name": "#%%\n"
    }
   }
  },
  {
   "cell_type": "code",
   "execution_count": 30,
   "outputs": [
    {
     "data": {
      "text/plain": "<Figure size 432x288 with 1 Axes>",
      "image/png": "[encoded data removed]"
     },
     "metadata": {
      "needs_background": "light"
     },
     "output_type": "display_data"
    },
    {
     "data": {
      "text/plain": "<Figure size 432x288 with 1 Axes>",
      "image/png": "[encoded data removed]"
     },
     "metadata": {
      "needs_background": "light"
     },
     "output_type": "display_data"
    }
   ],
   "source": [
    "# a gaussian blur kernel\n",
    "gaussian_kernel = torch.tensor([[1.,2,1], [2,4,2], [1,2,1]])/16.0\n",
    "\n",
    "conv = nn.Conv2d(1,1,3)\n",
    "# manually set the conv weight\n",
    "conv.weight.data[:] = gaussian_kernel\n",
    "\n",
    "convolved = conv(image_torch)\n",
    "\n",
    "plt.title(\"original image\")\n",
    "plt.imshow(image_torch.view(28,28).detach().numpy())\n",
    "plt.show()\n",
    "\n",
    "plt.title(\"blurred image\")\n",
    "plt.imshow(convolved.view(26, 26).detach().numpy())\n",
    "plt.show()"
   ],
   "metadata": {
    "collapsed": false,
    "pycharm": {
     "name": "#%%\n"
    }
   }
  },
  {
   "cell_type": "markdown",
   "source": [
    "As we can see, the image is blurred as expected.\n",
    "\n",
    "In practice, we learn many kernels at a time. In this example, we take in an RGB image (3 channels) and output a 16 channel\n",
    "image. After an activation function, that could be used as input to another ConV2d module."
   ],
   "metadata": {
    "collapsed": false,
    "pycharm": {
     "name": "#%% md\n"
    }
   }
  },
  {
   "cell_type": "code",
   "execution_count": 31,
   "outputs": [
    {
     "name": "stdout",
     "output_type": "stream",
     "text": [
      "im shape: torch.Size([4, 3, 32, 32])\n",
      "convolved im shape: torch.Size([4, 16, 1, 1])\n"
     ]
    }
   ],
   "source": [
    "im_channels = 3  # if we are working with RGB images, there are 3 input channels, with black and white, 1\n",
    "out_channels = 16  # this is a hyperparameter we can tune\n",
    "kernel_size = 3  # this is another hyperparameter we can tune\n",
    "batch_size = 4\n",
    "image_width = 32\n",
    "image_height = 32\n",
    "\n",
    "im = torch.randn(batch_size, im_channels, image_width, image_height)\n",
    "\n",
    "m = nn.Conv2d(im_channels, out_channels, image_width, image_height)\n",
    "convolved = m(im)\n",
    "\n",
    "print(f'im shape: {im.shape}')\n",
    "print(f'convolved im shape: {convolved.shape}')"
   ],
   "metadata": {
    "collapsed": false,
    "pycharm": {
     "name": "#%%\n"
    }
   }
  },
  {
   "cell_type": "markdown",
   "source": [
    "## Useful links:\n",
    "\n",
    "* [60 minutes PyTorch Tutorial](https://pytorch.org/tutorials/beginner/deep_learning_60min_blitz.html)\n",
    "* [PyTorch Docs](https://pytorch.org/docs/stable/index.html)\n",
    "* [Lecture notes on Auto-Diff]()"
   ],
   "metadata": {
    "collapsed": false,
    "pycharm": {
     "name": "#%% md\n"
    }
   }
  },
  {
   "cell_type": "markdown",
   "source": [
    "## Custom Datasets, DataLoaders\n",
    "\n",
    "This is modified from pytorch official tutorial. **Author**: `Sasank Chilankurthy <https://chsasank.github.io>`\n",
    "\n",
    "A lot of effort in solving any machine learning problem goes into preparing the data. PyTorch provides many tools to make\n",
    "data loading easy and hopefully, to make your code more readable. In this tutorial, we will see how to load and preprocess/augment\n",
    "data from a non trivial dataset.\n",
    "\n",
    "### Dataset class\n",
    "\n",
    "`torch.utils.data.Dataset` is an abstract class representing a dataset. Your custom dataset should inherit `Dataset` and override\n",
    "the following methods.\n",
    "\n",
    "* `__len__` so that `len(dataset)` returns the size of the dataset.\n",
    "* `__getitem__` to support the indexing such that dataset[1] can be used to get i'th sample\n",
    "\n",
    "Let's create a dataset class for our face landmarks dataset. We will read the csv in `__init__` but leave the reading of\n",
    "images to `__getitem__`. This is memory efficient because all the images are not stored in the memory at once but read as required.\n",
    "\n",
    "Sample of our dataset will be a dict {'image': image, 'landmarks': landmarks}. Our dataset will take an optional argument\n",
    "`transform` so that any required processing can be applied on the sample. We will see the usefulness of transform in the next\n",
    "section."
   ],
   "metadata": {
    "collapsed": false,
    "pycharm": {
     "name": "#%% md\n"
    }
   }
  },
  {
   "cell_type": "code",
   "execution_count": 32,
   "outputs": [],
   "source": [
    "from torch.utils.data import Dataset, DataLoader\n",
    "\n",
    "class FakeDataset(Dataset):\n",
    "    def __init__(self, x, y):\n",
    "        self.x = x\n",
    "        self.y = y\n",
    "\n",
    "    def __len__(self):\n",
    "        return len(self.x)\n",
    "\n",
    "    def __getitem__(self, idx):\n",
    "        return self.x[idx], self.y[idx]"
   ],
   "metadata": {
    "collapsed": false,
    "pycharm": {
     "name": "#%%\n"
    }
   }
  },
  {
   "cell_type": "markdown",
   "source": [
    "However, we are losing a lot of features by using a simple `for` loop to iterate over the data. In particular, we are missing\n",
    "out on:\n",
    "\n",
    "* Batching the data\n",
    "* Shuffling the data\n",
    "* Load the data in parallel using `multiprocessing` workers.\n",
    "\n",
    "`torch.utils.data.DataLoader` is an iterator which provides all these features. Parameters used below should be clear.\n",
    "One parameter of interest is `collate_fn`. You can specify how exactly the samples need to be batched using `collate_fn`.\n",
    "However, default collate should work fine for most use cases."
   ],
   "metadata": {
    "collapsed": false,
    "pycharm": {
     "name": "#%% md\n"
    }
   }
  },
  {
   "cell_type": "code",
   "execution_count": 33,
   "outputs": [
    {
     "name": "stdout",
     "output_type": "stream",
     "text": [
      "0 [tensor([[0.1096, 0.4694, 0.7044, 0.3765, 0.8890, 0.9266, 0.2414, 0.1361, 0.3555,\n",
      "         0.6641],\n",
      "        [0.1505, 0.9721, 0.3268, 0.8636, 0.4060, 0.1426, 0.2754, 0.0926, 0.8451,\n",
      "         0.1824],\n",
      "        [0.5439, 0.1739, 0.6939, 0.3658, 0.5159, 0.9156, 0.0107, 0.5253, 0.1156,\n",
      "         0.4393],\n",
      "        [0.0165, 0.3028, 0.3071, 0.0787, 0.2653, 0.3550, 0.3574, 0.0368, 0.0728,\n",
      "         0.8916]], dtype=torch.float64), tensor([0.2701, 0.7661, 0.1617, 0.1207], dtype=torch.float64)]\n",
      "1 [tensor([[0.0472, 0.2678, 0.7080, 0.2435, 0.6636, 0.8487, 0.3345, 0.3422, 0.7687,\n",
      "         0.3709],\n",
      "        [0.0274, 0.2815, 0.4425, 0.2692, 0.4284, 0.3600, 0.6660, 0.2705, 0.7473,\n",
      "         0.2071],\n",
      "        [0.6278, 0.0859, 0.0657, 0.6674, 0.6366, 0.9306, 0.8121, 0.6326, 0.5322,\n",
      "         0.7793],\n",
      "        [0.0705, 0.8939, 0.1630, 0.9421, 0.4714, 0.8645, 0.1503, 0.4629, 0.6484,\n",
      "         0.6583]], dtype=torch.float64), tensor([0.0040, 0.9358, 0.9702, 0.7861], dtype=torch.float64)]\n",
      "2 [tensor([[0.0795, 0.8094, 0.9198, 0.5961, 0.0574, 0.6314, 0.6500, 0.2977, 0.3418,\n",
      "         0.7521],\n",
      "        [0.6150, 0.6825, 0.1255, 0.7408, 0.5374, 0.0448, 0.4369, 0.7070, 0.6105,\n",
      "         0.2682],\n",
      "        [0.5691, 0.1234, 0.0489, 0.6661, 0.6113, 0.6277, 0.0384, 0.6170, 0.2797,\n",
      "         0.8429],\n",
      "        [0.3773, 0.7661, 0.9189, 0.0614, 0.9269, 0.1185, 0.6387, 0.1429, 0.6989,\n",
      "         0.3441]], dtype=torch.float64), tensor([0.6891, 0.2601, 0.3899, 0.0164], dtype=torch.float64)]\n",
      "3 [tensor([[0.5961, 0.1317, 0.5008, 0.0683, 0.5264, 0.8927, 0.2962, 0.2142, 0.7640,\n",
      "         0.8714],\n",
      "        [0.3348, 0.1017, 0.6351, 0.7048, 0.8362, 0.4930, 0.7561, 0.2674, 0.9701,\n",
      "         0.8510],\n",
      "        [0.7553, 0.7957, 0.3804, 0.9051, 0.6033, 0.3121, 0.1475, 0.6260, 0.8481,\n",
      "         0.0456],\n",
      "        [0.4420, 0.6948, 0.1094, 0.5931, 0.7619, 0.4407, 0.4690, 0.3976, 0.9607,\n",
      "         0.3494]], dtype=torch.float64), tensor([0.8594, 0.3492, 0.2310, 0.1883], dtype=torch.float64)]\n",
      "4 [tensor([[0.5625, 0.4209, 0.3199, 0.5329, 0.4318, 0.4624, 0.7504, 0.0850, 0.8262,\n",
      "         0.8674],\n",
      "        [0.7651, 0.3097, 0.8265, 0.7565, 0.3180, 0.9248, 0.9444, 0.4895, 0.4972,\n",
      "         0.6315],\n",
      "        [0.1328, 0.4722, 0.4579, 0.2818, 0.5141, 0.8366, 0.0479, 0.0689, 0.7267,\n",
      "         0.3794],\n",
      "        [0.6050, 0.2824, 0.6153, 0.2513, 0.0531, 0.0236, 0.7016, 0.6394, 0.9860,\n",
      "         0.4539]], dtype=torch.float64), tensor([0.6624, 0.8146, 0.3083, 0.9452], dtype=torch.float64)]\n",
      "5 [tensor([[0.8506, 0.4169, 0.4541, 0.9331, 0.0052, 0.1280, 0.9007, 0.1913, 0.8718,\n",
      "         0.0106],\n",
      "        [0.5042, 0.4699, 0.3214, 0.7640, 0.5101, 0.6616, 0.3617, 0.4770, 0.0069,\n",
      "         0.1894],\n",
      "        [0.6574, 0.5226, 0.4919, 0.2658, 0.3278, 0.4690, 0.0562, 0.9769, 0.1475,\n",
      "         0.5129],\n",
      "        [0.2407, 0.3158, 0.8096, 0.1740, 0.9177, 0.7346, 0.3027, 0.5294, 0.2325,\n",
      "         0.8409]], dtype=torch.float64), tensor([0.6756, 0.4412, 0.3191, 0.3310], dtype=torch.float64)]\n",
      "6 [tensor([[0.1415, 0.0567, 0.5027, 0.6150, 0.1651, 0.4861, 0.4452, 0.6551, 0.6557,\n",
      "         0.7662],\n",
      "        [0.5806, 0.0531, 0.8747, 0.0568, 0.1727, 0.7886, 0.5517, 0.1274, 0.0775,\n",
      "         0.2411],\n",
      "        [0.5321, 0.4342, 0.0405, 0.1812, 0.6136, 0.7870, 0.0483, 0.9592, 0.4478,\n",
      "         0.5764],\n",
      "        [0.6713, 0.4263, 0.9188, 0.9392, 0.6510, 0.8450, 0.1234, 0.0928, 0.8625,\n",
      "         0.0309]], dtype=torch.float64), tensor([0.1673, 0.1575, 0.8922, 0.0337], dtype=torch.float64)]\n",
      "7 [tensor([[0.6934, 0.8673, 0.6935, 0.4884, 0.7295, 0.3680, 0.1332, 0.1841, 0.8962,\n",
      "         0.7861],\n",
      "        [0.9852, 0.7606, 0.0070, 0.6510, 0.2410, 0.3949, 0.1414, 0.7690, 0.8134,\n",
      "         0.7123],\n",
      "        [0.5660, 0.5365, 0.7909, 0.4810, 0.2659, 0.1149, 0.3142, 0.5249, 0.2611,\n",
      "         0.9927],\n",
      "        [0.1366, 0.9362, 0.8221, 0.4098, 0.0233, 0.8347, 0.3028, 0.7414, 0.2492,\n",
      "         0.3986]], dtype=torch.float64), tensor([0.0302, 0.8446, 0.2815, 0.1860], dtype=torch.float64)]\n",
      "8 [tensor([[0.2921, 0.9617, 0.9515, 0.3262, 0.4368, 0.5069, 0.7174, 0.9699, 0.8135,\n",
      "         0.2042],\n",
      "        [0.8126, 0.4741, 0.5860, 0.3143, 0.0428, 0.0722, 0.0376, 0.9781, 0.0124,\n",
      "         0.2722],\n",
      "        [0.9219, 0.4175, 0.7378, 0.7466, 0.6516, 0.3478, 0.3196, 0.4792, 0.0107,\n",
      "         0.0097],\n",
      "        [0.3676, 0.1686, 0.0707, 0.4301, 0.8522, 0.6364, 0.6080, 0.8737, 0.3691,\n",
      "         0.1897]], dtype=torch.float64), tensor([0.8708, 0.4335, 0.3341, 0.2156], dtype=torch.float64)]\n",
      "9 [tensor([[0.8425, 0.0163, 0.0450, 0.9658, 0.1704, 0.7332, 0.5599, 0.3465, 0.5721,\n",
      "         0.3130],\n",
      "        [0.3985, 0.6418, 0.9978, 0.6291, 0.6545, 0.5499, 0.6170, 0.3744, 0.1309,\n",
      "         0.0333],\n",
      "        [0.6515, 0.9134, 0.5027, 0.7137, 0.3813, 0.0376, 0.6971, 0.9692, 0.9135,\n",
      "         0.2692],\n",
      "        [0.7485, 0.2783, 0.3977, 0.0927, 0.1109, 0.4401, 0.9317, 0.4913, 0.9146,\n",
      "         0.5833]], dtype=torch.float64), tensor([0.3623, 0.9767, 0.6051, 0.5321], dtype=torch.float64)]\n",
      "10 [tensor([[0.1370, 0.7772, 0.2095, 0.0615, 0.9563, 0.1148, 0.7654, 0.8568, 0.8793,\n",
      "         0.3518],\n",
      "        [0.4609, 0.6859, 0.3709, 0.9270, 0.6991, 0.5749, 0.8408, 0.4865, 0.5438,\n",
      "         0.6000],\n",
      "        [0.2575, 0.8604, 0.1631, 0.3485, 0.5333, 0.5776, 0.7931, 0.6992, 0.4117,\n",
      "         0.0477],\n",
      "        [0.9241, 0.5794, 0.1106, 0.4831, 0.1394, 0.8072, 0.4977, 0.0555, 0.7470,\n",
      "         0.6890]], dtype=torch.float64), tensor([0.0032, 0.8094, 0.3106, 0.0983], dtype=torch.float64)]\n",
      "11 [tensor([[0.3225, 0.1331, 0.9460, 0.9248, 0.6805, 0.3465, 0.6849, 0.1555, 0.6478,\n",
      "         0.7804],\n",
      "        [0.2653, 0.5330, 0.0414, 0.4293, 0.3036, 0.1316, 0.0314, 0.6894, 0.7553,\n",
      "         0.2532],\n",
      "        [0.1443, 0.5263, 0.4120, 0.3804, 0.8041, 0.9519, 0.1409, 0.5286, 0.9267,\n",
      "         0.2848],\n",
      "        [0.7059, 0.0629, 0.4574, 0.6665, 0.9461, 0.6405, 0.6298, 0.0565, 0.9597,\n",
      "         0.4506]], dtype=torch.float64), tensor([0.0759, 0.0190, 0.4732, 0.9747], dtype=torch.float64)]\n",
      "12 [tensor([[0.4232, 0.2060, 0.8339, 0.6456, 0.2742, 0.0868, 0.9288, 0.2806, 0.1588,\n",
      "         0.8433],\n",
      "        [0.3525, 0.3487, 0.2770, 0.5047, 0.1117, 0.9636, 0.4308, 0.3456, 0.0113,\n",
      "         0.2805],\n",
      "        [0.4832, 0.9956, 0.4878, 0.2249, 0.9667, 0.6957, 0.0909, 0.6688, 0.8366,\n",
      "         0.0182],\n",
      "        [0.2442, 0.1764, 0.6082, 0.0751, 0.6153, 0.5185, 0.6593, 0.6469, 0.2874,\n",
      "         0.4393]], dtype=torch.float64), tensor([0.4983, 0.4506, 0.3888, 0.0552], dtype=torch.float64)]\n",
      "13 [tensor([[0.2514, 0.5027, 0.7723, 0.5894, 0.3749, 0.9916, 0.5685, 0.2184, 0.4930,\n",
      "         0.4290],\n",
      "        [0.5355, 0.7904, 0.9605, 0.7997, 0.1974, 0.2357, 0.5871, 0.5880, 0.8157,\n",
      "         0.7967],\n",
      "        [0.1089, 0.5596, 0.5591, 0.7019, 0.5667, 0.2379, 0.3286, 0.0240, 0.3211,\n",
      "         0.1834],\n",
      "        [0.9117, 0.1700, 0.2482, 0.3003, 0.1531, 0.6073, 0.5338, 0.5332, 0.2620,\n",
      "         0.0839]], dtype=torch.float64), tensor([0.3861, 0.3752, 0.3808, 0.0576], dtype=torch.float64)]\n",
      "14 [tensor([[0.3854, 0.9316, 0.0298, 0.9188, 0.8910, 0.3670, 0.8487, 0.1697, 0.0127,\n",
      "         0.0498],\n",
      "        [0.3914, 0.0533, 0.7894, 0.8275, 0.7835, 0.2978, 0.4156, 0.8235, 0.9098,\n",
      "         0.8376],\n",
      "        [0.7026, 0.0047, 0.9629, 0.5305, 0.8144, 0.2466, 0.7914, 0.4742, 0.6611,\n",
      "         0.9934],\n",
      "        [0.0994, 0.4514, 0.3857, 0.9796, 0.9205, 0.1876, 0.3074, 0.2653, 0.4389,\n",
      "         0.1293]], dtype=torch.float64), tensor([0.0839, 0.8951, 0.1524, 0.2245], dtype=torch.float64)]\n",
      "15 [tensor([[0.3471, 0.9848, 0.1266, 0.3642, 0.3110, 0.2262, 0.7783, 0.4433, 0.5535,\n",
      "         0.4736],\n",
      "        [0.1141, 0.1068, 0.5190, 0.8968, 0.4951, 0.1997, 0.6193, 0.2545, 0.8648,\n",
      "         0.8976],\n",
      "        [0.3322, 0.7527, 0.8107, 0.2407, 0.2330, 0.0650, 0.1372, 0.2534, 0.4211,\n",
      "         0.1260],\n",
      "        [0.3332, 0.0981, 0.7359, 0.7838, 0.3023, 0.2381, 0.5067, 0.4706, 0.2707,\n",
      "         0.3132]], dtype=torch.float64), tensor([0.0902, 0.8928, 0.7878, 0.4883], dtype=torch.float64)]\n",
      "16 [tensor([[0.6240, 0.6081, 0.1885, 0.8287, 0.0992, 0.9690, 0.7310, 0.4237, 0.0929,\n",
      "         0.3810],\n",
      "        [0.1478, 0.4510, 0.5293, 0.0144, 0.6534, 0.0011, 0.7619, 0.8707, 0.0184,\n",
      "         0.0679],\n",
      "        [0.3428, 0.9303, 0.4622, 0.7690, 0.5182, 0.2178, 0.8088, 0.3814, 0.2451,\n",
      "         0.0097],\n",
      "        [0.4786, 0.1964, 0.8945, 0.9900, 0.8276, 0.1961, 0.2638, 0.0117, 0.1773,\n",
      "         0.6262]], dtype=torch.float64), tensor([0.2295, 0.9799, 0.3401, 0.0566], dtype=torch.float64)]\n",
      "17 [tensor([[0.3544, 0.1138, 0.4130, 0.6864, 0.0309, 0.2801, 0.9899, 0.4980, 0.8004,\n",
      "         0.2637],\n",
      "        [0.6947, 0.4833, 0.4664, 0.0637, 0.6154, 0.3276, 0.2890, 0.9505, 0.2479,\n",
      "         0.4722],\n",
      "        [0.1796, 0.2674, 0.7746, 0.9959, 0.3893, 0.6051, 0.6899, 0.3247, 0.2102,\n",
      "         0.8673],\n",
      "        [0.9806, 0.3530, 0.0961, 0.5138, 0.8475, 0.7146, 0.5949, 0.2177, 0.5165,\n",
      "         0.7706]], dtype=torch.float64), tensor([0.3185, 0.1866, 0.3140, 0.8239], dtype=torch.float64)]\n",
      "18 [tensor([[0.0157, 0.9246, 0.2020, 0.1813, 0.5590, 0.1894, 0.8663, 0.3976, 0.6099,\n",
      "         0.7796],\n",
      "        [0.1269, 0.5661, 0.6663, 0.0428, 0.6780, 0.2926, 0.7766, 0.1815, 0.7354,\n",
      "         0.6291],\n",
      "        [0.7997, 0.7779, 0.2931, 0.6034, 0.3622, 0.1584, 0.6144, 0.7697, 0.3829,\n",
      "         0.0093],\n",
      "        [0.8435, 0.2153, 0.4496, 0.2253, 0.4997, 0.3479, 0.4391, 0.0605, 0.4542,\n",
      "         0.0157]], dtype=torch.float64), tensor([0.1214, 0.6234, 0.2867, 0.6350], dtype=torch.float64)]\n",
      "19 [tensor([[0.7834, 0.7959, 0.4286, 0.5653, 0.3529, 0.3601, 0.0417, 0.5342, 0.4847,\n",
      "         0.0560],\n",
      "        [0.4771, 0.3198, 0.2225, 0.2465, 0.5702, 0.4464, 0.7550, 0.1298, 0.1753,\n",
      "         0.1040],\n",
      "        [0.3330, 0.9045, 0.2981, 0.6869, 0.8339, 0.6206, 0.7687, 0.8025, 0.1287,\n",
      "         0.2582],\n",
      "        [0.0633, 0.2424, 0.2661, 0.7229, 0.8196, 0.0043, 0.3061, 0.9725, 0.4043,\n",
      "         0.5097]], dtype=torch.float64), tensor([0.0361, 0.5800, 0.4160, 0.4057], dtype=torch.float64)]\n",
      "20 [tensor([[0.2195, 0.3428, 0.2049, 0.9051, 0.9741, 0.3217, 0.1570, 0.6321, 0.9287,\n",
      "         0.0520],\n",
      "        [0.7630, 0.1256, 0.6109, 0.5586, 0.9137, 0.5597, 0.6269, 0.3198, 0.3077,\n",
      "         0.3593],\n",
      "        [0.2460, 0.8893, 0.5499, 0.0054, 0.8566, 0.2870, 0.2730, 0.5990, 0.5467,\n",
      "         0.3042],\n",
      "        [0.1630, 0.2736, 0.0070, 0.1457, 0.0807, 0.6849, 0.8761, 0.0502, 0.7291,\n",
      "         0.2466]], dtype=torch.float64), tensor([0.1052, 0.4832, 0.3607, 0.6671], dtype=torch.float64)]\n",
      "21 [tensor([[0.0431, 0.4885, 0.0495, 0.2853, 0.8376, 0.3061, 0.0888, 0.8225, 0.8141,\n",
      "         0.8305],\n",
      "        [0.5713, 0.6165, 0.7750, 0.5141, 0.1918, 0.8182, 0.5630, 0.2650, 0.9904,\n",
      "         0.0493],\n",
      "        [0.2766, 0.8681, 0.0590, 0.0525, 0.6620, 0.5223, 0.9452, 0.1036, 0.2693,\n",
      "         0.3226],\n",
      "        [0.5955, 0.0951, 0.6246, 0.7979, 0.9589, 0.3035, 0.9799, 0.8582, 0.6784,\n",
      "         0.7507]], dtype=torch.float64), tensor([0.9373, 0.8794, 0.4770, 0.3991], dtype=torch.float64)]\n",
      "22 [tensor([[0.1711, 0.7196, 0.2643, 0.3807, 0.5423, 0.7101, 0.6998, 0.4714, 0.5880,\n",
      "         0.9182],\n",
      "        [0.3207, 0.4271, 0.3206, 0.9046, 0.7617, 0.8463, 0.6925, 0.1443, 0.0974,\n",
      "         0.5341],\n",
      "        [0.3276, 0.4199, 0.6992, 0.4885, 0.0958, 0.6588, 0.2741, 0.4439, 0.1695,\n",
      "         0.8619],\n",
      "        [0.9347, 0.8148, 0.4499, 0.0176, 0.4606, 0.1236, 0.1444, 0.2298, 0.5406,\n",
      "         0.6820]], dtype=torch.float64), tensor([0.5712, 0.8877, 0.3145, 0.6488], dtype=torch.float64)]\n",
      "23 [tensor([[0.4305, 0.7886, 0.6214, 0.4531, 0.4469, 0.7205, 0.1592, 0.1842, 0.5187,\n",
      "         0.6969],\n",
      "        [0.6122, 0.3149, 0.4599, 0.4874, 0.5861, 0.7513, 0.2208, 0.0972, 0.9090,\n",
      "         0.7897],\n",
      "        [0.2729, 0.1071, 0.9125, 0.4087, 0.2112, 0.2144, 0.4645, 0.4689, 0.5563,\n",
      "         0.3527],\n",
      "        [0.1333, 0.8867, 0.5232, 0.9336, 0.1000, 0.0323, 0.3984, 0.9970, 0.4848,\n",
      "         0.4662]], dtype=torch.float64), tensor([0.2027, 0.0727, 0.2831, 0.6319], dtype=torch.float64)]\n",
      "24 [tensor([[0.1754, 0.2864, 0.7618, 0.0244, 0.3647, 0.9209, 0.0891, 0.1538, 0.1855,\n",
      "         0.7084],\n",
      "        [0.7332, 0.8916, 0.8853, 0.7412, 0.7929, 0.9534, 0.1238, 0.0607, 0.1257,\n",
      "         0.0268],\n",
      "        [0.3389, 0.7122, 0.8899, 0.6695, 0.9767, 0.1120, 0.2055, 0.7342, 0.6544,\n",
      "         0.9195],\n",
      "        [0.5020, 0.6228, 0.7321, 0.8117, 0.8293, 0.7492, 0.4505, 0.8574, 0.3756,\n",
      "         0.7858]], dtype=torch.float64), tensor([0.8977, 0.9971, 0.1774, 0.8451], dtype=torch.float64)]\n"
     ]
    }
   ],
   "source": [
    "x = np.random.rand(100, 10)\n",
    "y = np.random.rand(100)\n",
    "\n",
    "dataset = FakeDataset(x, y)\n",
    "dataloader = DataLoader(dataset, batch_size=4, shuffle=True, num_workers=4)\n",
    "\n",
    "for i_batch, sample_batched in enumerate(dataloader):\n",
    "    print(i_batch, sample_batched)"
   ],
   "metadata": {
    "collapsed": false,
    "pycharm": {
     "name": "#%%\n"
    }
   }
  },
  {
   "cell_type": "markdown",
   "source": [
    "## Mixed Presision Training\n",
    "\n",
    "**Author**: Chi-Liang Liu <https://liangtaiwan.github.io> **Ref**: https://github.com/NVIDIA/apex Using mixed precision to train\n",
    "your networks can be:\n",
    "\n",
    "* 2-4x faster\n",
    "* memory-efficient in only 3 lines of Python.\n",
    "\n",
    "## Apex\n",
    "\n",
    "NVIDIA-maintained utilities to streamline mixed precision and distributed training in PyTorch. Some of the code here will be\n",
    "included in upstream PyTorch eventually. The intention of Apex is to make up-to-date utilities available to users as quickly\n",
    "as possible.\n",
    "\n",
    "### apex.amp\n",
    "\n",
    "Amp allows users to easily experiment with different pure and mixed precision modes. Commonly-used default modes are chosen\n",
    "by selecting an 'optimization level' or `opt_level`; each `opt_level` establishes a set of properties that govern Amp's\n",
    "implementation of pure of mixed precision training. Finer-grained control of how a given `opt_level` behaves can be achieved\n",
    "by passing values for particular properties directly to `amp.initialize`. These manually specified values overrides the defaults\n",
    "established by the `opt_level`.\n",
    "\n",
    "Note: You should install the latest version of apex!!!!"
   ],
   "metadata": {
    "collapsed": false,
    "pycharm": {
     "name": "#%% md\n"
    }
   }
  },
  {
   "cell_type": "code",
   "execution_count": 35,
   "outputs": [
    {
     "ename": "ImportError",
     "evalue": "cannot import name 'UnencryptedCookieSessionFactoryConfig' from 'pyramid.session' (unknown location)",
     "output_type": "error",
     "traceback": [
      "\u001B[0;31m---------------------------------------------------------------------------\u001B[0m",
      "\u001B[0;31mImportError\u001B[0m                               Traceback (most recent call last)",
      "\u001B[0;32m/tmp/ipykernel_10628/3887502553.py\u001B[0m in \u001B[0;36m<module>\u001B[0;34m\u001B[0m\n\u001B[0;32m----> 1\u001B[0;31m \u001B[0;32mfrom\u001B[0m \u001B[0mapex\u001B[0m \u001B[0;32mimport\u001B[0m \u001B[0mamp\u001B[0m\u001B[0;34m\u001B[0m\u001B[0;34m\u001B[0m\u001B[0m\n\u001B[0m\u001B[1;32m      2\u001B[0m \u001B[0;34m\u001B[0m\u001B[0m\n\u001B[1;32m      3\u001B[0m \u001B[0;31m# Declare model and optimizer as usual, with default {FP32} precision\u001B[0m\u001B[0;34m\u001B[0m\u001B[0;34m\u001B[0m\u001B[0;34m\u001B[0m\u001B[0m\n\u001B[1;32m      4\u001B[0m \u001B[0mmodel\u001B[0m \u001B[0;34m=\u001B[0m \u001B[0mtorch\u001B[0m\u001B[0;34m.\u001B[0m\u001B[0mnn\u001B[0m\u001B[0;34m.\u001B[0m\u001B[0mLinear\u001B[0m\u001B[0;34m(\u001B[0m\u001B[0;36m10\u001B[0m\u001B[0;34m,\u001B[0m \u001B[0;36m100\u001B[0m\u001B[0;34m)\u001B[0m\u001B[0;34m.\u001B[0m\u001B[0mcuda\u001B[0m\u001B[0;34m(\u001B[0m\u001B[0;34m)\u001B[0m\u001B[0;34m\u001B[0m\u001B[0;34m\u001B[0m\u001B[0m\n\u001B[1;32m      5\u001B[0m \u001B[0moptimizer\u001B[0m \u001B[0;34m=\u001B[0m \u001B[0mtorch\u001B[0m\u001B[0;34m.\u001B[0m\u001B[0moptim\u001B[0m\u001B[0;34m.\u001B[0m\u001B[0mSGD\u001B[0m\u001B[0;34m(\u001B[0m\u001B[0mmodel\u001B[0m\u001B[0;34m.\u001B[0m\u001B[0mparameters\u001B[0m\u001B[0;34m(\u001B[0m\u001B[0;34m)\u001B[0m\u001B[0;34m,\u001B[0m \u001B[0mlr\u001B[0m\u001B[0;34m=\u001B[0m\u001B[0;36m1e-3\u001B[0m\u001B[0;34m)\u001B[0m\u001B[0;34m\u001B[0m\u001B[0;34m\u001B[0m\u001B[0m\n",
      "\u001B[0;32m~/anaconda3/envs/pytorch/lib/python3.8/site-packages/apex/__init__.py\u001B[0m in \u001B[0;36m<module>\u001B[0;34m\u001B[0m\n\u001B[1;32m     11\u001B[0m                                 ISessionFactory)\n\u001B[1;32m     12\u001B[0m \u001B[0;32mfrom\u001B[0m \u001B[0mpyramid\u001B[0m\u001B[0;34m.\u001B[0m\u001B[0msecurity\u001B[0m \u001B[0;32mimport\u001B[0m \u001B[0mNO_PERMISSION_REQUIRED\u001B[0m\u001B[0;34m\u001B[0m\u001B[0;34m\u001B[0m\u001B[0m\n\u001B[0;32m---> 13\u001B[0;31m \u001B[0;32mfrom\u001B[0m \u001B[0mpyramid\u001B[0m\u001B[0;34m.\u001B[0m\u001B[0msession\u001B[0m \u001B[0;32mimport\u001B[0m \u001B[0mUnencryptedCookieSessionFactoryConfig\u001B[0m\u001B[0;34m\u001B[0m\u001B[0;34m\u001B[0m\u001B[0m\n\u001B[0m\u001B[1;32m     14\u001B[0m \u001B[0;32mfrom\u001B[0m \u001B[0mpyramid\u001B[0m\u001B[0;34m.\u001B[0m\u001B[0msettings\u001B[0m \u001B[0;32mimport\u001B[0m \u001B[0masbool\u001B[0m\u001B[0;34m\u001B[0m\u001B[0;34m\u001B[0m\u001B[0m\n\u001B[1;32m     15\u001B[0m \u001B[0;34m\u001B[0m\u001B[0m\n",
      "\u001B[0;31mImportError\u001B[0m: cannot import name 'UnencryptedCookieSessionFactoryConfig' from 'pyramid.session' (unknown location)"
     ]
    }
   ],
   "source": [
    "# below are only the example codes\n",
    "\n",
    "from apex import amp\n",
    "\n",
    "# Declare model and optimizer as usual, with default {FP32} precision\n",
    "model = torch.nn.Linear(10, 100).cuda()\n",
    "optimizer = torch.optim.SGD(model.parameters(), lr=1e-3)\n",
    "\n",
    "# Allow Amp to perform casts as required by the opt_level\n",
    "model, optimizer = amp.initialize(model, optimizer, optimizer=\"01\")\n",
    "\n",
    "# loss.backward() becomes:\n",
    "with amp.scale_loss(loss, optimizer) as scaled_loss:\n",
    "    scaled_loss.backward()\n"
   ],
   "metadata": {
    "collapsed": false,
    "pycharm": {
     "name": "#%%\n"
    }
   }
  }
 ],
 "metadata": {
  "kernelspec": {
   "display_name": "Python 3",
   "language": "python",
   "name": "python3"
  },
  "language_info": {
   "codemirror_mode": {
    "name": "ipython",
    "version": 2
   },
   "file_extension": ".py",
   "mimetype": "text/x-python",
   "name": "python",
   "nbconvert_exporter": "python",
   "pygments_lexer": "ipython2",
   "version": "2.7.6"
  }
 },
 "nbformat": 4,
 "nbformat_minor": 0
}