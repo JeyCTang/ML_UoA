{
  "nbformat": 4,
  "nbformat_minor": 0,
  "metadata": {
    "colab": {
      "name": "How to build a MLP with PyTorch.ipynb",
      "provenance": [],
      "collapsed_sections": []
    },
    "kernelspec": {
      "name": "python3",
      "display_name": "Python 3"
    },
    "language_info": {
      "name": "python"
    }
  },
  "cells": [
    {
      "cell_type": "code",
      "metadata": {
        "id": "7j6VNa6pZa5M"
      },
      "source": [
        "import os\n",
        "import torch\n",
        "from torch import nn\n",
        "from torchvision.datasets import CIFAR10\n",
        "from torch.utils.data import DataLoader\n",
        "from torchvision import transforms"
      ],
      "execution_count": 2,
      "outputs": []
    },
    {
      "cell_type": "code",
      "metadata": {
        "id": "Yb2qrh3QaLZP"
      },
      "source": [
        "class MLP(nn.Module):\n",
        "    \"\"\"Multilayer Perception\"\"\"\n",
        "    def __init__(self):\n",
        "        super().__init__()\n",
        "        self.layers = nn.Sequential(\n",
        "            nn.Flatten(),\n",
        "            nn.Linear(32 * 32 * 3, 64),\n",
        "            nn.ReLU(),\n",
        "            nn.Linear(64, 32),\n",
        "            nn.ReLU(),\n",
        "            nn.Linear(32, 10)\n",
        "        )\n",
        "    def forward(self, x):\n",
        "        \"\"\"Forward pass\"\"\"\n",
        "        return self.layers(x)"
      ],
      "execution_count": 15,
      "outputs": []
    },
    {
      "cell_type": "code",
      "metadata": {
        "colab": {
          "base_uri": "https://localhost:8080/"
        },
        "id": "s4j0oIqEel3d",
        "outputId": "e2dc8688-ed57-4beb-f67e-63f8d5984f34"
      },
      "source": [
        "# set fixed random number seed\n",
        "torch.manual_seed(42)\n",
        "\n",
        "# Prepare CIFAR-10 dataset\n",
        "dataset = CIFAR10(os.getcwd(), download=True, transform=transforms.ToTensor())\n",
        "trainloader = torch.utils.data.DataLoader(dataset, batch_size=10, shuffle=True, num_workers=1)\n",
        "\n",
        "# Initialize the MLP\n",
        "mlp = MLP()\n",
        "\n",
        "# Define the loss function and optimizer\n",
        "loss_function = nn.CrossEntropyLoss()\n",
        "optimizer = torch.optim.Adam(mlp.parameters(), lr=1e-4)"
      ],
      "execution_count": 17,
      "outputs": [
        {
          "output_type": "stream",
          "name": "stdout",
          "text": [
            "Files already downloaded and verified\n"
          ]
        }
      ]
    },
    {
      "cell_type": "code",
      "metadata": {
        "colab": {
          "base_uri": "https://localhost:8080/"
        },
        "id": "k2aYYAHEliP1",
        "outputId": "065c4813-ef5d-43f9-c2d0-d6b60f458b06"
      },
      "source": [
        "len(dataset)"
      ],
      "execution_count": 13,
      "outputs": [
        {
          "output_type": "execute_result",
          "data": {
            "text/plain": [
              "50000"
            ]
          },
          "metadata": {},
          "execution_count": 13
        }
      ]
    },
    {
      "cell_type": "code",
      "metadata": {
        "colab": {
          "base_uri": "https://localhost:8080/"
        },
        "id": "4IYYR59ClfpC",
        "outputId": "88291eb5-511d-4a06-c186-edd57d6ffb9d"
      },
      "source": [
        "# Run the training loop\n",
        "for epoch in range(0, 5):\n",
        "\n",
        "    print(f'Starting epoch {epoch + 1}')            # print epoch\n",
        "    current_loss = 0.0                              # set curent loss value\n",
        "\n",
        "    for i, data in enumerate(trainloader, 0):\n",
        "        inputs, targets = data      # get inputs\n",
        "        optimizer.zero_grad()       # zero the gradients\n",
        "        outputs = mlp(inputs)       # perform forward pass\n",
        "        loss = loss_function(outputs, targets)      # compute loss\n",
        "        loss.backward()     # perfrom backward pass\n",
        "        optimizer.step()        # Perform optimization\n",
        "\n",
        "        current_loss += loss.item()\n",
        "        if i % 500 == 499:\n",
        "            print(f'Loss after mini-batch {i+1}: {current_loss/500:.3f}')\n",
        "            current_loss = 0.0\n",
        "\n",
        "# Process is complete\n",
        "print(\"Training process has finished.\")\n"
      ],
      "execution_count": null,
      "outputs": [
        {
          "output_type": "stream",
          "name": "stdout",
          "text": [
            "Starting epoch 1\n",
            "Loss after mini-batch 500: 2.237\n",
            "Loss after mini-batch 1000: 2.099\n",
            "Loss after mini-batch 1500: 2.031\n",
            "Loss after mini-batch 2000: 2.000\n",
            "Loss after mini-batch 2500: 1.938\n",
            "Loss after mini-batch 3000: 1.945\n",
            "Loss after mini-batch 3500: 1.916\n",
            "Loss after mini-batch 4000: 1.903\n",
            "Loss after mini-batch 4500: 1.870\n",
            "Loss after mini-batch 5000: 1.856\n",
            "Starting epoch 2\n",
            "Loss after mini-batch 500: 1.831\n",
            "Loss after mini-batch 1000: 1.832\n",
            "Loss after mini-batch 1500: 1.825\n",
            "Loss after mini-batch 2000: 1.823\n",
            "Loss after mini-batch 2500: 1.816\n",
            "Loss after mini-batch 3000: 1.811\n",
            "Loss after mini-batch 3500: 1.802\n",
            "Loss after mini-batch 4000: 1.772\n",
            "Loss after mini-batch 4500: 1.774\n"
          ]
        }
      ]
    }
  ]
}