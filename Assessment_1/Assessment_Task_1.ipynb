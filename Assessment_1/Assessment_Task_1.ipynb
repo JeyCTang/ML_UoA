{
 "cells": [
  {
   "cell_type": "markdown",
   "source": [
    "# CS5062_ASSESSMENT1_ZHIXI_TANG__52097136\n",
    "\n",
    "Student: ZHIXI TANG\n",
    "Student ID: 52097136\n",
    "\n",
    "## Introduction\n",
    "\n",
    "This .ipynb file include the source code and detailed explanation of CS5062 Assessment 1. It can be run on local machine with\n",
    "required environment or Google Colab."
   ],
   "metadata": {
    "collapsed": false,
    "pycharm": {
     "name": "#%% md\n"
    }
   }
  },
  {
   "cell_type": "markdown",
   "source": [
    "## Task 1\n",
    "\n",
    "### Task 1 - A: Data Import"
   ],
   "metadata": {
    "collapsed": false,
    "pycharm": {
     "name": "#%% md\n"
    }
   }
  },
  {
   "cell_type": "code",
   "execution_count": 1,
   "metadata": {
    "collapsed": true
   },
   "outputs": [
    {
     "data": {
      "text/plain": "     Variety     S_1   S_2     S_3   S_4      M_1   M_2    M_3        W_1  \\\n0          1  4.0900  15.3  396.90  4.98  0.00632  18.0  6.575   2.381979   \n1          2  4.9671  17.8  396.90  9.14  0.02731   0.0  6.421   7.071148   \n2          2  4.9671  17.8  392.83  4.03  0.02729   0.0  7.185   6.896941   \n3          3  6.0622  18.7  394.63  2.94  0.03237   0.0  6.998   2.237817   \n4          3  6.0622  18.7  396.90  5.33  0.06905   0.0  7.147   1.979327   \n..       ...     ...   ...     ...   ...      ...   ...    ...        ...   \n501        1  2.4786  21.0  391.99  9.67  0.06263   0.0  6.593  11.774062   \n502        1  2.2875  21.0  396.90  9.08  0.04527   0.0  6.120  11.785249   \n503        1  2.1675  21.0  396.90  5.64  0.06076   0.0  6.976  11.854205   \n504        1  2.3889  21.0  393.45  6.48  0.10959   0.0  6.794  11.765196   \n505        1  2.5050  21.0  396.90  7.88  0.04741   0.0  6.030  12.007563   \n\n          W_2   W_3         W_4  Yield  \n0    0.475522  65.2  296.350195   24.0  \n1    0.509165  78.9  241.620198   21.6  \n2    0.580673  61.1  241.551476   34.7  \n3    0.491539  45.8  222.023994   33.4  \n4    0.103660  54.2  221.723972   36.2  \n..        ...   ...         ...    ...  \n501  0.565469  69.1  272.952382   22.4  \n502  0.562102  76.7  273.264306   20.6  \n503  0.777569  91.0  273.421726   23.9  \n504  0.679057  89.3  273.913622   22.0  \n505  0.615699  80.8  273.623418   11.9  \n\n[506 rows x 13 columns]",
      "text/html": "<div>\n<style scoped>\n    .dataframe tbody tr th:only-of-type {\n        vertical-align: middle;\n    }\n\n    .dataframe tbody tr th {\n        vertical-align: top;\n    }\n\n    .dataframe thead th {\n        text-align: right;\n    }\n</style>\n<table border=\"1\" class=\"dataframe\">\n  <thead>\n    <tr style=\"text-align: right;\">\n      <th></th>\n      <th>Variety</th>\n      <th>S_1</th>\n      <th>S_2</th>\n      <th>S_3</th>\n      <th>S_4</th>\n      <th>M_1</th>\n      <th>M_2</th>\n      <th>M_3</th>\n      <th>W_1</th>\n      <th>W_2</th>\n      <th>W_3</th>\n      <th>W_4</th>\n      <th>Yield</th>\n    </tr>\n  </thead>\n  <tbody>\n    <tr>\n      <th>0</th>\n      <td>1</td>\n      <td>4.0900</td>\n      <td>15.3</td>\n      <td>396.90</td>\n      <td>4.98</td>\n      <td>0.00632</td>\n      <td>18.0</td>\n      <td>6.575</td>\n      <td>2.381979</td>\n      <td>0.475522</td>\n      <td>65.2</td>\n      <td>296.350195</td>\n      <td>24.0</td>\n    </tr>\n    <tr>\n      <th>1</th>\n      <td>2</td>\n      <td>4.9671</td>\n      <td>17.8</td>\n      <td>396.90</td>\n      <td>9.14</td>\n      <td>0.02731</td>\n      <td>0.0</td>\n      <td>6.421</td>\n      <td>7.071148</td>\n      <td>0.509165</td>\n      <td>78.9</td>\n      <td>241.620198</td>\n      <td>21.6</td>\n    </tr>\n    <tr>\n      <th>2</th>\n      <td>2</td>\n      <td>4.9671</td>\n      <td>17.8</td>\n      <td>392.83</td>\n      <td>4.03</td>\n      <td>0.02729</td>\n      <td>0.0</td>\n      <td>7.185</td>\n      <td>6.896941</td>\n      <td>0.580673</td>\n      <td>61.1</td>\n      <td>241.551476</td>\n      <td>34.7</td>\n    </tr>\n    <tr>\n      <th>3</th>\n      <td>3</td>\n      <td>6.0622</td>\n      <td>18.7</td>\n      <td>394.63</td>\n      <td>2.94</td>\n      <td>0.03237</td>\n      <td>0.0</td>\n      <td>6.998</td>\n      <td>2.237817</td>\n      <td>0.491539</td>\n      <td>45.8</td>\n      <td>222.023994</td>\n      <td>33.4</td>\n    </tr>\n    <tr>\n      <th>4</th>\n      <td>3</td>\n      <td>6.0622</td>\n      <td>18.7</td>\n      <td>396.90</td>\n      <td>5.33</td>\n      <td>0.06905</td>\n      <td>0.0</td>\n      <td>7.147</td>\n      <td>1.979327</td>\n      <td>0.103660</td>\n      <td>54.2</td>\n      <td>221.723972</td>\n      <td>36.2</td>\n    </tr>\n    <tr>\n      <th>...</th>\n      <td>...</td>\n      <td>...</td>\n      <td>...</td>\n      <td>...</td>\n      <td>...</td>\n      <td>...</td>\n      <td>...</td>\n      <td>...</td>\n      <td>...</td>\n      <td>...</td>\n      <td>...</td>\n      <td>...</td>\n      <td>...</td>\n    </tr>\n    <tr>\n      <th>501</th>\n      <td>1</td>\n      <td>2.4786</td>\n      <td>21.0</td>\n      <td>391.99</td>\n      <td>9.67</td>\n      <td>0.06263</td>\n      <td>0.0</td>\n      <td>6.593</td>\n      <td>11.774062</td>\n      <td>0.565469</td>\n      <td>69.1</td>\n      <td>272.952382</td>\n      <td>22.4</td>\n    </tr>\n    <tr>\n      <th>502</th>\n      <td>1</td>\n      <td>2.2875</td>\n      <td>21.0</td>\n      <td>396.90</td>\n      <td>9.08</td>\n      <td>0.04527</td>\n      <td>0.0</td>\n      <td>6.120</td>\n      <td>11.785249</td>\n      <td>0.562102</td>\n      <td>76.7</td>\n      <td>273.264306</td>\n      <td>20.6</td>\n    </tr>\n    <tr>\n      <th>503</th>\n      <td>1</td>\n      <td>2.1675</td>\n      <td>21.0</td>\n      <td>396.90</td>\n      <td>5.64</td>\n      <td>0.06076</td>\n      <td>0.0</td>\n      <td>6.976</td>\n      <td>11.854205</td>\n      <td>0.777569</td>\n      <td>91.0</td>\n      <td>273.421726</td>\n      <td>23.9</td>\n    </tr>\n    <tr>\n      <th>504</th>\n      <td>1</td>\n      <td>2.3889</td>\n      <td>21.0</td>\n      <td>393.45</td>\n      <td>6.48</td>\n      <td>0.10959</td>\n      <td>0.0</td>\n      <td>6.794</td>\n      <td>11.765196</td>\n      <td>0.679057</td>\n      <td>89.3</td>\n      <td>273.913622</td>\n      <td>22.0</td>\n    </tr>\n    <tr>\n      <th>505</th>\n      <td>1</td>\n      <td>2.5050</td>\n      <td>21.0</td>\n      <td>396.90</td>\n      <td>7.88</td>\n      <td>0.04741</td>\n      <td>0.0</td>\n      <td>6.030</td>\n      <td>12.007563</td>\n      <td>0.615699</td>\n      <td>80.8</td>\n      <td>273.623418</td>\n      <td>11.9</td>\n    </tr>\n  </tbody>\n</table>\n<p>506 rows × 13 columns</p>\n</div>"
     },
     "execution_count": 1,
     "metadata": {},
     "output_type": "execute_result"
    }
   ],
   "source": [
    "import pandas as pd\n",
    "import numpy as np\n",
    "\n",
    "df = pd.read_csv('./data/soybean_tabular.csv')\n",
    "df"
   ]
  },
  {
   "cell_type": "markdown",
   "source": [
    "Provide short statistical summary (mean, range, standard deviations, min/max, median, and 25%/50%/75% percentile),\n",
    "describe the data provided identifying and rectifying any missing values."
   ],
   "metadata": {
    "collapsed": false,
    "pycharm": {
     "name": "#%% md\n"
    }
   }
  },
  {
   "cell_type": "code",
   "execution_count": 59,
   "outputs": [
    {
     "data": {
      "text/plain": "              S_1         S_2         S_3         S_4         M_1         M_2  \\\ncount  506.000000  506.000000  506.000000  506.000000  506.000000  506.000000   \nmean     3.795043   18.455534  356.674032   12.653063    3.613524   11.363636   \nstd      2.105710    2.164946   91.294864    7.141062    8.601545   23.322453   \nmin      1.129600   12.600000    0.320000    1.730000    0.006320    0.000000   \n25%      2.100175   17.400000  375.377500    6.950000    0.082045    0.000000   \n50%      3.207450   19.050000  391.440000   11.360000    0.256510    0.000000   \n75%      5.188425   20.200000  396.225000   16.955000    3.677083   12.500000   \nmax     12.126500   22.000000  396.900000   37.970000   88.976200  100.000000   \n\n              M_3         W_1         W_2         W_3         W_4       Yield  \ncount  506.000000  506.000000  506.000000  506.000000  506.000000  506.000000  \nmean     6.284634   11.131488    0.551258   68.574901  408.252839   22.532806  \nstd      0.702617    6.868654    0.181693   28.148861  168.530578    9.197104  \nmin      3.561000    0.472905    0.103660    2.900000  186.765075    5.000000  \n25%      5.885500    5.149096    0.422286   45.025000  278.745884   17.025000  \n50%      6.208500    9.588040    0.528133   77.500000  330.467783   21.200000  \n75%      6.623500   18.094315    0.668573   94.075000  665.354401   25.000000  \nmax      8.780000   28.074197    1.158538  100.000000  711.210992   50.000000  ",
      "text/html": "<div>\n<style scoped>\n    .dataframe tbody tr th:only-of-type {\n        vertical-align: middle;\n    }\n\n    .dataframe tbody tr th {\n        vertical-align: top;\n    }\n\n    .dataframe thead th {\n        text-align: right;\n    }\n</style>\n<table border=\"1\" class=\"dataframe\">\n  <thead>\n    <tr style=\"text-align: right;\">\n      <th></th>\n      <th>S_1</th>\n      <th>S_2</th>\n      <th>S_3</th>\n      <th>S_4</th>\n      <th>M_1</th>\n      <th>M_2</th>\n      <th>M_3</th>\n      <th>W_1</th>\n      <th>W_2</th>\n      <th>W_3</th>\n      <th>W_4</th>\n      <th>Yield</th>\n    </tr>\n  </thead>\n  <tbody>\n    <tr>\n      <th>count</th>\n      <td>506.000000</td>\n      <td>506.000000</td>\n      <td>506.000000</td>\n      <td>506.000000</td>\n      <td>506.000000</td>\n      <td>506.000000</td>\n      <td>506.000000</td>\n      <td>506.000000</td>\n      <td>506.000000</td>\n      <td>506.000000</td>\n      <td>506.000000</td>\n      <td>506.000000</td>\n    </tr>\n    <tr>\n      <th>mean</th>\n      <td>3.795043</td>\n      <td>18.455534</td>\n      <td>356.674032</td>\n      <td>12.653063</td>\n      <td>3.613524</td>\n      <td>11.363636</td>\n      <td>6.284634</td>\n      <td>11.131488</td>\n      <td>0.551258</td>\n      <td>68.574901</td>\n      <td>408.252839</td>\n      <td>22.532806</td>\n    </tr>\n    <tr>\n      <th>std</th>\n      <td>2.105710</td>\n      <td>2.164946</td>\n      <td>91.294864</td>\n      <td>7.141062</td>\n      <td>8.601545</td>\n      <td>23.322453</td>\n      <td>0.702617</td>\n      <td>6.868654</td>\n      <td>0.181693</td>\n      <td>28.148861</td>\n      <td>168.530578</td>\n      <td>9.197104</td>\n    </tr>\n    <tr>\n      <th>min</th>\n      <td>1.129600</td>\n      <td>12.600000</td>\n      <td>0.320000</td>\n      <td>1.730000</td>\n      <td>0.006320</td>\n      <td>0.000000</td>\n      <td>3.561000</td>\n      <td>0.472905</td>\n      <td>0.103660</td>\n      <td>2.900000</td>\n      <td>186.765075</td>\n      <td>5.000000</td>\n    </tr>\n    <tr>\n      <th>25%</th>\n      <td>2.100175</td>\n      <td>17.400000</td>\n      <td>375.377500</td>\n      <td>6.950000</td>\n      <td>0.082045</td>\n      <td>0.000000</td>\n      <td>5.885500</td>\n      <td>5.149096</td>\n      <td>0.422286</td>\n      <td>45.025000</td>\n      <td>278.745884</td>\n      <td>17.025000</td>\n    </tr>\n    <tr>\n      <th>50%</th>\n      <td>3.207450</td>\n      <td>19.050000</td>\n      <td>391.440000</td>\n      <td>11.360000</td>\n      <td>0.256510</td>\n      <td>0.000000</td>\n      <td>6.208500</td>\n      <td>9.588040</td>\n      <td>0.528133</td>\n      <td>77.500000</td>\n      <td>330.467783</td>\n      <td>21.200000</td>\n    </tr>\n    <tr>\n      <th>75%</th>\n      <td>5.188425</td>\n      <td>20.200000</td>\n      <td>396.225000</td>\n      <td>16.955000</td>\n      <td>3.677083</td>\n      <td>12.500000</td>\n      <td>6.623500</td>\n      <td>18.094315</td>\n      <td>0.668573</td>\n      <td>94.075000</td>\n      <td>665.354401</td>\n      <td>25.000000</td>\n    </tr>\n    <tr>\n      <th>max</th>\n      <td>12.126500</td>\n      <td>22.000000</td>\n      <td>396.900000</td>\n      <td>37.970000</td>\n      <td>88.976200</td>\n      <td>100.000000</td>\n      <td>8.780000</td>\n      <td>28.074197</td>\n      <td>1.158538</td>\n      <td>100.000000</td>\n      <td>711.210992</td>\n      <td>50.000000</td>\n    </tr>\n  </tbody>\n</table>\n</div>"
     },
     "execution_count": 59,
     "metadata": {},
     "output_type": "execute_result"
    }
   ],
   "source": [
    "df1 = df.iloc[:, 1:]\n",
    "\n",
    "# range\n",
    "df1.describe()"
   ],
   "metadata": {
    "collapsed": false,
    "pycharm": {
     "name": "#%%\n"
    }
   }
  },
  {
   "cell_type": "markdown",
   "source": [
    "The statistical description is shown above. As the feature `variety` is just a number to represent corp variety, we do not\n",
    "have to take it into account.\n",
    "\n",
    "From the above data we can see in the column `M_2`, there are some values are missed. The dataset has used $0$ to replace\n",
    "these missed values, so we don't have to process it.\n",
    "\n",
    "However, for different varieties of crops, there maybe a certain relationship between features\n",
    "of the same variety of corps, therefore, we will get the statistical description of different varieties of corps separately."
   ],
   "metadata": {
    "collapsed": false,
    "pycharm": {
     "name": "#%% md\n"
    }
   }
  },
  {
   "cell_type": "code",
   "execution_count": 15,
   "outputs": [
    {
     "data": {
      "text/plain": "24    132\n5     115\n4     110\n3      38\n6      26\n2      24\n8      24\n1      20\n7      17\nName: Variety, dtype: int64"
     },
     "execution_count": 15,
     "metadata": {},
     "output_type": "execute_result"
    }
   ],
   "source": [
    "# count how many varieties in corps\n",
    "df['Variety'].value_counts()"
   ],
   "metadata": {
    "collapsed": false,
    "pycharm": {
     "name": "#%%\n"
    }
   }
  },
  {
   "cell_type": "code",
   "execution_count": 26,
   "outputs": [],
   "source": [
    "def show_describe(dataframe, variety_num):\n",
    "    \"\"\"\"The variety_num can only be one of [24, 5, 4, 3, 6, 2, 8, 1, 7]\"\"\"\n",
    "    df_v = dataframe.loc[dataframe['Variety'] == variety_num]\n",
    "    return  variety_num, df_v.describe()"
   ],
   "metadata": {
    "collapsed": false,
    "pycharm": {
     "name": "#%%\n"
    }
   }
  },
  {
   "cell_type": "code",
   "execution_count": 57,
   "outputs": [],
   "source": [
    "def DiffYield(dataframe):\n",
    "    varieties = [24, 5, 4, 3, 6, 2, 8, 1, 7]\n",
    "    index = ['mean', 'std', 'min', '25%', '50%', '75%', 'max']\n",
    "    v_names = []\n",
    "    data = {}\n",
    "\n",
    "    for i in varieties:\n",
    "        df_v = show_describe(dataframe, i)  # get the describe info of a single variety\n",
    "        corp_yield = df_v.iloc[1:, -1].values\n",
    "        exec(f\"data['Variety_{i}'] = corp_yield\")\n",
    "    yield_df = pd.DataFrame(data, index=index)\n",
    "\n",
    "    return yield_df"
   ],
   "metadata": {
    "collapsed": false,
    "pycharm": {
     "name": "#%%\n"
    }
   }
  },
  {
   "cell_type": "code",
   "execution_count": 51,
   "outputs": [
    {
     "data": {
      "text/plain": "RangeIndex(start=1, stop=506, step=1)"
     },
     "execution_count": 51,
     "metadata": {},
     "output_type": "execute_result"
    }
   ],
   "source": [
    "# df.iloc[1:, -1]\n",
    "df.iloc[1:, -1].index"
   ],
   "metadata": {
    "collapsed": false,
    "pycharm": {
     "name": "#%%\n"
    }
   }
  },
  {
   "cell_type": "code",
   "execution_count": 58,
   "outputs": [
    {
     "data": {
      "text/plain": "      Variety_24  Variety_5  Variety_4  Variety_3  Variety_6  Variety_2  \\\nmean   16.403788  25.706957  21.387273  27.928947  20.976923  26.833333   \nstd     8.539745   9.328401   6.957883   8.324692   2.312801   7.874376   \nmin     5.000000  11.800000   7.000000  14.400000  16.800000  15.700000   \n25%    11.225000  19.500000  17.575000  21.125000  18.900000  21.400000   \n50%    14.400000  23.000000  20.450000  26.500000  21.200000  23.850000   \n75%    19.900000  30.000000  23.650000  34.525000  23.025000  33.225000   \nmax    50.000000  50.000000  50.000000  50.000000  24.800000  43.800000   \n\n      Variety_8  Variety_1  Variety_7  \nmean  30.358333  24.365000  27.105882  \nstd    9.727724   8.024454   6.493215  \nmin   16.000000  11.900000  17.600000  \n25%   23.825000  20.475000  24.300000  \n50%   28.250000  22.200000  26.200000  \n75%   33.175000  27.225000  29.600000  \nmax   50.000000  50.000000  42.800000  ",
      "text/html": "<div>\n<style scoped>\n    .dataframe tbody tr th:only-of-type {\n        vertical-align: middle;\n    }\n\n    .dataframe tbody tr th {\n        vertical-align: top;\n    }\n\n    .dataframe thead th {\n        text-align: right;\n    }\n</style>\n<table border=\"1\" class=\"dataframe\">\n  <thead>\n    <tr style=\"text-align: right;\">\n      <th></th>\n      <th>Variety_24</th>\n      <th>Variety_5</th>\n      <th>Variety_4</th>\n      <th>Variety_3</th>\n      <th>Variety_6</th>\n      <th>Variety_2</th>\n      <th>Variety_8</th>\n      <th>Variety_1</th>\n      <th>Variety_7</th>\n    </tr>\n  </thead>\n  <tbody>\n    <tr>\n      <th>mean</th>\n      <td>16.403788</td>\n      <td>25.706957</td>\n      <td>21.387273</td>\n      <td>27.928947</td>\n      <td>20.976923</td>\n      <td>26.833333</td>\n      <td>30.358333</td>\n      <td>24.365000</td>\n      <td>27.105882</td>\n    </tr>\n    <tr>\n      <th>std</th>\n      <td>8.539745</td>\n      <td>9.328401</td>\n      <td>6.957883</td>\n      <td>8.324692</td>\n      <td>2.312801</td>\n      <td>7.874376</td>\n      <td>9.727724</td>\n      <td>8.024454</td>\n      <td>6.493215</td>\n    </tr>\n    <tr>\n      <th>min</th>\n      <td>5.000000</td>\n      <td>11.800000</td>\n      <td>7.000000</td>\n      <td>14.400000</td>\n      <td>16.800000</td>\n      <td>15.700000</td>\n      <td>16.000000</td>\n      <td>11.900000</td>\n      <td>17.600000</td>\n    </tr>\n    <tr>\n      <th>25%</th>\n      <td>11.225000</td>\n      <td>19.500000</td>\n      <td>17.575000</td>\n      <td>21.125000</td>\n      <td>18.900000</td>\n      <td>21.400000</td>\n      <td>23.825000</td>\n      <td>20.475000</td>\n      <td>24.300000</td>\n    </tr>\n    <tr>\n      <th>50%</th>\n      <td>14.400000</td>\n      <td>23.000000</td>\n      <td>20.450000</td>\n      <td>26.500000</td>\n      <td>21.200000</td>\n      <td>23.850000</td>\n      <td>28.250000</td>\n      <td>22.200000</td>\n      <td>26.200000</td>\n    </tr>\n    <tr>\n      <th>75%</th>\n      <td>19.900000</td>\n      <td>30.000000</td>\n      <td>23.650000</td>\n      <td>34.525000</td>\n      <td>23.025000</td>\n      <td>33.225000</td>\n      <td>33.175000</td>\n      <td>27.225000</td>\n      <td>29.600000</td>\n    </tr>\n    <tr>\n      <th>max</th>\n      <td>50.000000</td>\n      <td>50.000000</td>\n      <td>50.000000</td>\n      <td>50.000000</td>\n      <td>24.800000</td>\n      <td>43.800000</td>\n      <td>50.000000</td>\n      <td>50.000000</td>\n      <td>42.800000</td>\n    </tr>\n  </tbody>\n</table>\n</div>"
     },
     "execution_count": 58,
     "metadata": {},
     "output_type": "execute_result"
    }
   ],
   "source": [
    "DiffYield(df)"
   ],
   "metadata": {
    "collapsed": false,
    "pycharm": {
     "name": "#%%\n"
    }
   }
  },
  {
   "cell_type": "markdown",
   "source": [
    "### Task 1 - B: Data pre-processing\n",
    "\n",
    "In this section, we will split dataset to train, validation, test with rate of 6:2:2.\n",
    "\n",
    "We will also do some pre-processing to the data for improving the performance model we will define later. The steps are shown below:\n",
    "\n",
    "1. Split the data to train_set, test set with rate 6 : 4\n",
    "2. Use the median of train_set>M_2 to replace the 0 in train_set and test_set\n",
    "3. Split the train set with rate 1: 1. Therefore, we will have train_set, validation_set, test_set with rate 6 : 2 : 2\n",
    "4. Convert `pandas.Dataframe` into `numpy.ndarray`."
   ],
   "metadata": {
    "collapsed": false,
    "pycharm": {
     "name": "#%% md\n"
    }
   }
  },
  {
   "cell_type": "code",
   "execution_count": 73,
   "outputs": [],
   "source": [
    "from sklearn.preprocessing import StandardScaler\n",
    "\n",
    "# Split train, validation, and test set with rate 6:2:2\n",
    "train_set = df.sample(frac=0.6, random_state=0, axis=0)\n",
    "rest_set = df[~df.index.isin(train_set.index)]\n",
    "test_set = rest_set.sample(frac=0.5, random_state=0, axis=0)\n",
    "val_set = rest_set[~rest_set.index.isin(test_set.index)]\n",
    "\n",
    "# Use the median of train_set > M_2 to replace the 0 in train_set and test_set\n",
    "m = train_set['M_2'].median()\n",
    "\n",
    "# Replace value\n",
    "train_set['M_2'].replace(0, m, inplace=True)\n",
    "test_set['M_2'].replace(0, m, inplace=True)\n",
    "\n",
    "# Normalization - Z-score\n",
    "sc_train = StandardScaler()\n",
    "sc_train = sc_train.fit_transform(train_set)\n",
    "sc_train = pd.DataFrame(data=sc_train, columns=['Variety', 'S_1', 'S_2', 'S_3', 'S_4', 'M_1', 'M_2', 'M_3', 'W_1', 'W_2', 'W_3', 'W_4', 'Yield'])\n",
    "\n",
    "# Convert to numpy.ndarry\n",
    "train_set = np.array(sc_train)\n",
    "val_set = np.array(val_set)\n",
    "test_set = np.array(test_set)"
   ],
   "metadata": {
    "collapsed": false,
    "pycharm": {
     "name": "#%%\n"
    }
   }
  },
  {
   "cell_type": "markdown",
   "source": [
    "### Task 1 - C: Linear Regression Training\n",
    "\n",
    "In this section we will define the Linear models and fit them with PyTorch"
   ],
   "metadata": {
    "collapsed": false,
    "pycharm": {
     "name": "#%% md\n"
    }
   }
  },
  {
   "cell_type": "code",
   "execution_count": 1,
   "outputs": [
    {
     "name": "stdout",
     "output_type": "stream",
     "text": [
      "True\n",
      "1\n",
      "NVIDIA GeForce GTX 1070\n",
      "0\n"
     ]
    }
   ],
   "source": [
    "import torch\n",
    "\n",
    "print(torch.cuda.is_available())\n",
    "print(torch.cuda.device_count())\n",
    "print(torch.cuda.get_device_name(0))\n",
    "print(torch.cuda.current_device())\n",
    "\n"
   ],
   "metadata": {
    "collapsed": false,
    "pycharm": {
     "name": "#%%\n"
    }
   }
  }
 ],
 "metadata": {
  "kernelspec": {
   "display_name": "Python 3",
   "language": "python",
   "name": "python3"
  },
  "language_info": {
   "codemirror_mode": {
    "name": "ipython",
    "version": 2
   },
   "file_extension": ".py",
   "mimetype": "text/x-python",
   "name": "python",
   "nbconvert_exporter": "python",
   "pygments_lexer": "ipython2",
   "version": "2.7.6"
  }
 },
 "nbformat": 4,
 "nbformat_minor": 0
}