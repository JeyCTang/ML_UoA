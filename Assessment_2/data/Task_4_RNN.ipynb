{
  "nbformat": 4,
  "nbformat_minor": 0,
  "metadata": {
    "colab": {
      "name": "Task-4-RNN.ipynb",
      "provenance": []
    },
    "kernelspec": {
      "name": "python3",
      "display_name": "Python 3"
    },
    "language_info": {
      "name": "python"
    },
    "accelerator": "GPU"
  },
  "cells": [
    {
      "cell_type": "code",
      "metadata": {
        "colab": {
          "base_uri": "https://localhost:8080/"
        },
        "id": "3dcvoJCguM0h",
        "outputId": "eb436947-b7cc-4a22-840f-469ca3586226"
      },
      "source": [
        "from google.colab import drive\n",
        "drive.mount('/content/drive')"
      ],
      "execution_count": null,
      "outputs": [
        {
          "output_type": "stream",
          "name": "stdout",
          "text": [
            "Mounted at /content/drive\n"
          ]
        }
      ]
    },
    {
      "cell_type": "code",
      "metadata": {
        "id": "_9Xvj2Q0ufWC"
      },
      "source": [
        "!unzip -q /content/drive/MyDrive/Machine_Learning_UoA/CS5062_AssessmentII_Dataset.zip"
      ],
      "execution_count": null,
      "outputs": []
    },
    {
      "cell_type": "code",
      "metadata": {
        "id": "vQ0VP3TvuuT1"
      },
      "source": [
        "import pandas as pd\n",
        "import numpy as np"
      ],
      "execution_count": null,
      "outputs": []
    },
    {
      "cell_type": "code",
      "metadata": {
        "colab": {
          "base_uri": "https://localhost:8080/"
        },
        "id": "rBDu2mBVuxnq",
        "outputId": "974bcec5-4f1f-4484-8cfc-9af2c0afa6e0"
      },
      "source": [
        "df_train = pd.read_csv('./Train.csv')\n",
        "df_train['Trip'].value_counts()"
      ],
      "execution_count": null,
      "outputs": [
        {
          "output_type": "execute_result",
          "data": {
            "text/plain": [
              "1793    2822\n",
              "2949    2659\n",
              "1808    2149\n",
              "1928    1815\n",
              "2886    1709\n",
              "        ... \n",
              "2776     135\n",
              "2956     130\n",
              "1582     122\n",
              "2820     107\n",
              "2610     104\n",
              "Name: Trip, Length: 136, dtype: int64"
            ]
          },
          "metadata": {},
          "execution_count": 2
        }
      ]
    },
    {
      "cell_type": "code",
      "metadata": {
        "colab": {
          "base_uri": "https://localhost:8080/",
          "height": 419
        },
        "id": "Jt5vILY6vOtQ",
        "outputId": "a033a375-8f48-4ef6-a14d-5cb186f636cf"
      },
      "source": [
        "df_train"
      ],
      "execution_count": null,
      "outputs": [
        {
          "output_type": "execute_result",
          "data": {
            "text/html": [
              "<div>\n",
              "<style scoped>\n",
              "    .dataframe tbody tr th:only-of-type {\n",
              "        vertical-align: middle;\n",
              "    }\n",
              "\n",
              "    .dataframe tbody tr th {\n",
              "        vertical-align: top;\n",
              "    }\n",
              "\n",
              "    .dataframe thead th {\n",
              "        text-align: right;\n",
              "    }\n",
              "</style>\n",
              "<table border=\"1\" class=\"dataframe\">\n",
              "  <thead>\n",
              "    <tr style=\"text-align: right;\">\n",
              "      <th></th>\n",
              "      <th>Trip</th>\n",
              "      <th>VehicleSpeed_km_h_</th>\n",
              "      <th>Battery_Status</th>\n",
              "    </tr>\n",
              "  </thead>\n",
              "  <tbody>\n",
              "    <tr>\n",
              "      <th>0</th>\n",
              "      <td>1567</td>\n",
              "      <td>7.76</td>\n",
              "      <td>0</td>\n",
              "    </tr>\n",
              "    <tr>\n",
              "      <th>1</th>\n",
              "      <td>1567</td>\n",
              "      <td>4.91</td>\n",
              "      <td>0</td>\n",
              "    </tr>\n",
              "    <tr>\n",
              "      <th>2</th>\n",
              "      <td>1567</td>\n",
              "      <td>3.47</td>\n",
              "      <td>0</td>\n",
              "    </tr>\n",
              "    <tr>\n",
              "      <th>3</th>\n",
              "      <td>1567</td>\n",
              "      <td>3.47</td>\n",
              "      <td>0</td>\n",
              "    </tr>\n",
              "    <tr>\n",
              "      <th>4</th>\n",
              "      <td>1567</td>\n",
              "      <td>0.00</td>\n",
              "      <td>0</td>\n",
              "    </tr>\n",
              "    <tr>\n",
              "      <th>...</th>\n",
              "      <td>...</td>\n",
              "      <td>...</td>\n",
              "      <td>...</td>\n",
              "    </tr>\n",
              "    <tr>\n",
              "      <th>107080</th>\n",
              "      <td>3263</td>\n",
              "      <td>29.25</td>\n",
              "      <td>1</td>\n",
              "    </tr>\n",
              "    <tr>\n",
              "      <th>107081</th>\n",
              "      <td>3263</td>\n",
              "      <td>29.25</td>\n",
              "      <td>1</td>\n",
              "    </tr>\n",
              "    <tr>\n",
              "      <th>107082</th>\n",
              "      <td>3263</td>\n",
              "      <td>28.58</td>\n",
              "      <td>1</td>\n",
              "    </tr>\n",
              "    <tr>\n",
              "      <th>107083</th>\n",
              "      <td>3263</td>\n",
              "      <td>28.58</td>\n",
              "      <td>1</td>\n",
              "    </tr>\n",
              "    <tr>\n",
              "      <th>107084</th>\n",
              "      <td>3263</td>\n",
              "      <td>28.16</td>\n",
              "      <td>1</td>\n",
              "    </tr>\n",
              "  </tbody>\n",
              "</table>\n",
              "<p>107085 rows × 3 columns</p>\n",
              "</div>"
            ],
            "text/plain": [
              "        Trip  VehicleSpeed_km_h_  Battery_Status\n",
              "0       1567                7.76               0\n",
              "1       1567                4.91               0\n",
              "2       1567                3.47               0\n",
              "3       1567                3.47               0\n",
              "4       1567                0.00               0\n",
              "...      ...                 ...             ...\n",
              "107080  3263               29.25               1\n",
              "107081  3263               29.25               1\n",
              "107082  3263               28.58               1\n",
              "107083  3263               28.58               1\n",
              "107084  3263               28.16               1\n",
              "\n",
              "[107085 rows x 3 columns]"
            ]
          },
          "metadata": {},
          "execution_count": 3
        }
      ]
    },
    {
      "cell_type": "code",
      "metadata": {
        "colab": {
          "base_uri": "https://localhost:8080/"
        },
        "id": "dRo0JljP92jV",
        "outputId": "c1be356b-72fe-4224-a465-df991201cd0c"
      },
      "source": [
        "trip = df_train['Trip'].value_counts()\n",
        "\n",
        "## trip ID\n",
        "demo_list = []\n",
        "for i, j in trip.items():\n",
        "    demo_list.append(i)\n",
        "\n",
        "len(demo_list)"
      ],
      "execution_count": null,
      "outputs": [
        {
          "output_type": "execute_result",
          "data": {
            "text/plain": [
              "136"
            ]
          },
          "metadata": {},
          "execution_count": 4
        }
      ]
    },
    {
      "cell_type": "code",
      "metadata": {
        "colab": {
          "base_uri": "https://localhost:8080/"
        },
        "id": "KBkpm1eb_heF",
        "outputId": "80cde974-d4f7-463d-a864-4ebc8d7caea8"
      },
      "source": [
        "# split the train data by trip ID\n",
        "\n",
        "splited_df = []\n",
        "for i in demo_list:\n",
        "    splited_df.append(df_train.loc[df_train['Trip'] == i])\n",
        "\n",
        "# 136 dataframes with same ID\n",
        "len(splited_df)"
      ],
      "execution_count": null,
      "outputs": [
        {
          "output_type": "execute_result",
          "data": {
            "text/plain": [
              "136"
            ]
          },
          "metadata": {},
          "execution_count": 5
        }
      ]
    },
    {
      "cell_type": "code",
      "metadata": {
        "id": "1D_OxFz5ACQG"
      },
      "source": [
        "def generate_xy (splited_dfs, time_step):\n",
        "    x_train, y_train = [], []\n",
        "\n",
        "    for df in splited_dfs:\n",
        "        df_length = df.shape[0]\n",
        "        train_data = df['VehicleSpeed_km_h_'].values.reshape(-1, 1)\n",
        "        label_data = df['Battery_Status'].values.reshape(-1, 1)\n",
        "        for i in range(time_step, df_length):\n",
        "            x_train.append(train_data[i-time_step:i, 0])\n",
        "            y_train.append(label_data[i-1, 0])\n",
        "    return np.array(x_train), np.array(y_train)"
      ],
      "execution_count": null,
      "outputs": []
    },
    {
      "cell_type": "code",
      "metadata": {
        "colab": {
          "base_uri": "https://localhost:8080/"
        },
        "id": "bL6JJpGMBXW5",
        "outputId": "aea80ac4-10a8-4520-cf00-d0c94c838678"
      },
      "source": [
        "time_step = 50\n",
        "\n",
        "df = splited_df[0]\n",
        "train_data = df['VehicleSpeed_km_h_'].values.reshape(-1, 1)\n",
        "label_data = df['Battery_Status']\n",
        "\n",
        "train_data[0:50, 0]\n",
        "\n",
        "\n",
        "# train_data.shape"
      ],
      "execution_count": null,
      "outputs": [
        {
          "output_type": "execute_result",
          "data": {
            "text/plain": [
              "array([ 0.        , 11.17999935, 11.17999935, 11.17999935, 11.17999935,\n",
              "       18.93000031, 26.02999878, 26.02999878, 26.02999878, 31.9299984 ,\n",
              "       37.31999969, 37.31999969, 37.31999969, 41.81999969, 41.81999969,\n",
              "       41.81999969, 45.93999863, 45.93999863, 49.38999939, 49.38999939,\n",
              "       52.31999969, 52.31999969, 52.31999969, 55.48999786, 55.48999786,\n",
              "       55.48999786, 57.73999786, 57.73999786, 59.23999786, 59.23999786,\n",
              "       59.23999786, 60.77000046, 60.77000046, 61.86999893, 61.86999893,\n",
              "       63.43000031, 63.43000031, 63.43000031, 63.8599968 , 63.8599968 ,\n",
              "       64.22000122, 64.22000122, 64.12999725, 64.12999725, 64.12999725,\n",
              "       64.12999725, 64.30999756, 64.30999756, 64.30999756, 64.30999756])"
            ]
          },
          "metadata": {},
          "execution_count": 47
        }
      ]
    },
    {
      "cell_type": "code",
      "metadata": {
        "id": "yyz5yWVMDD4L"
      },
      "source": [
        "time_step = 50\n",
        "\n",
        "x_train, y_train = generate_xy(splited_df, time_step)"
      ],
      "execution_count": null,
      "outputs": []
    },
    {
      "cell_type": "code",
      "metadata": {
        "colab": {
          "base_uri": "https://localhost:8080/"
        },
        "id": "dp8Kzm_UD3Pb",
        "outputId": "5aa9840b-2fce-468f-f61b-b340d187d598"
      },
      "source": [
        "x_train.shape"
      ],
      "execution_count": null,
      "outputs": [
        {
          "output_type": "execute_result",
          "data": {
            "text/plain": [
              "(100285, 50)"
            ]
          },
          "metadata": {},
          "execution_count": 49
        }
      ]
    },
    {
      "cell_type": "code",
      "metadata": {
        "colab": {
          "base_uri": "https://localhost:8080/"
        },
        "id": "tf9tcJR0ECzC",
        "outputId": "f16d497d-66a1-4682-9ce8-bcada35b287c"
      },
      "source": [
        "y_train.shape"
      ],
      "execution_count": null,
      "outputs": [
        {
          "output_type": "execute_result",
          "data": {
            "text/plain": [
              "(100285,)"
            ]
          },
          "metadata": {},
          "execution_count": 50
        }
      ]
    },
    {
      "cell_type": "code",
      "metadata": {
        "colab": {
          "base_uri": "https://localhost:8080/"
        },
        "id": "WP8e_qkUKYUm",
        "outputId": "660faf6c-fd01-4670-977c-9217216d2127"
      },
      "source": [
        "from sklearn.preprocessing import StandardScaler\n",
        "\n",
        "sc = StandardScaler()\n",
        "x_train_sc = sc.fit_transform(x_train)\n",
        "\n",
        "x_train_sc.shape"
      ],
      "execution_count": null,
      "outputs": [
        {
          "output_type": "execute_result",
          "data": {
            "text/plain": [
              "(100285, 50)"
            ]
          },
          "metadata": {},
          "execution_count": 51
        }
      ]
    },
    {
      "cell_type": "code",
      "metadata": {
        "colab": {
          "base_uri": "https://localhost:8080/"
        },
        "id": "48jCkfcoFRbA",
        "outputId": "cc05099f-b66c-4799-f00a-1d5269c235b5"
      },
      "source": [
        "x_train = np.reshape(x_train_sc, (x_train_sc.shape[0], x_train_sc.shape[1], 1))\n",
        "x_train.shape"
      ],
      "execution_count": null,
      "outputs": [
        {
          "output_type": "execute_result",
          "data": {
            "text/plain": [
              "(100285, 50, 1)"
            ]
          },
          "metadata": {},
          "execution_count": 52
        }
      ]
    },
    {
      "cell_type": "code",
      "metadata": {
        "colab": {
          "base_uri": "https://localhost:8080/"
        },
        "id": "67i50s5_Fw-W",
        "outputId": "892ebc15-7def-407c-f0a9-206aff024f1e"
      },
      "source": [
        "y_train"
      ],
      "execution_count": null,
      "outputs": [
        {
          "output_type": "execute_result",
          "data": {
            "text/plain": [
              "array([0, 0, 0, ..., 0, 0, 0])"
            ]
          },
          "metadata": {},
          "execution_count": 53
        }
      ]
    },
    {
      "cell_type": "code",
      "metadata": {
        "id": "v29yUIecEdNt"
      },
      "source": [
        "from tensorflow import keras\n",
        "from keras.models import Sequential\n",
        "from keras.layers import Dense, LSTM, Dropout"
      ],
      "execution_count": null,
      "outputs": []
    },
    {
      "cell_type": "code",
      "metadata": {
        "id": "vtLoSafhEgl_"
      },
      "source": [
        "regressor = Sequential()\n",
        "\n",
        "regressor.add(LSTM(units=100, return_sequences= True, input_shape=(50, 1)))\n",
        "# regressor.add(Dropout(0.2))\n",
        "\n",
        "regressor.add(LSTM(units=100, return_sequences= True))\n",
        "# regressor.add(Dropout(0.2))\n",
        "\n",
        "regressor.add(LSTM(units=100, return_sequences= True))\n",
        "# regressor.add(Dropout(0.2))\n",
        "\n",
        "regressor.add(LSTM(units=50))\n",
        "# regressor.add(Dropout(0.2))\n",
        "\n",
        "regressor.add(Dense(units=2))"
      ],
      "execution_count": null,
      "outputs": []
    },
    {
      "cell_type": "code",
      "metadata": {
        "colab": {
          "base_uri": "https://localhost:8080/"
        },
        "id": "mzk116mcNa6z",
        "outputId": "2ba7d870-d09f-4061-c69a-6bc1ccc4c4bd"
      },
      "source": [
        "regressor.summary()"
      ],
      "execution_count": null,
      "outputs": [
        {
          "output_type": "stream",
          "name": "stdout",
          "text": [
            "Model: \"sequential_10\"\n",
            "_________________________________________________________________\n",
            "Layer (type)                 Output Shape              Param #   \n",
            "=================================================================\n",
            "lstm_28 (LSTM)               (None, 50, 100)           40800     \n",
            "_________________________________________________________________\n",
            "lstm_29 (LSTM)               (None, 50, 100)           80400     \n",
            "_________________________________________________________________\n",
            "lstm_30 (LSTM)               (None, 50, 100)           80400     \n",
            "_________________________________________________________________\n",
            "lstm_31 (LSTM)               (None, 50)                30200     \n",
            "_________________________________________________________________\n",
            "dense_9 (Dense)              (None, 2)                 102       \n",
            "=================================================================\n",
            "Total params: 231,902\n",
            "Trainable params: 231,902\n",
            "Non-trainable params: 0\n",
            "_________________________________________________________________\n"
          ]
        }
      ]
    },
    {
      "cell_type": "code",
      "metadata": {
        "id": "F47CU340Exic"
      },
      "source": [
        "regressor.compile(optimizer='adam', metrics=['accuracy'], loss='mse')"
      ],
      "execution_count": null,
      "outputs": []
    },
    {
      "cell_type": "code",
      "metadata": {
        "colab": {
          "base_uri": "https://localhost:8080/"
        },
        "id": "44Y7L0cdE0zm",
        "outputId": "9b85bd6e-bd7a-46fe-a08b-89965de7a705"
      },
      "source": [
        "import tensorflow as tf\n",
        "tf.random.set_seed(1234)\n",
        "\n",
        "regressor.fit(x_train, y_train, epochs=10, batch_size=10000)"
      ],
      "execution_count": null,
      "outputs": [
        {
          "output_type": "stream",
          "name": "stdout",
          "text": [
            "Epoch 1/10\n",
            "11/11 [==============================] - 17s 1s/step - loss: 0.2147 - accuracy: 0.5818\n",
            "Epoch 2/10\n",
            "11/11 [==============================] - 11s 1s/step - loss: 0.1795 - accuracy: 0.4175\n",
            "Epoch 3/10\n",
            "11/11 [==============================] - 11s 1s/step - loss: 0.1675 - accuracy: 0.6087\n",
            "Epoch 4/10\n",
            "11/11 [==============================] - 11s 1s/step - loss: 0.1624 - accuracy: 0.3622\n",
            "Epoch 5/10\n",
            "11/11 [==============================] - 11s 1s/step - loss: 0.1531 - accuracy: 0.6206\n",
            "Epoch 6/10\n",
            "11/11 [==============================] - 11s 999ms/step - loss: 0.1450 - accuracy: 0.4140\n",
            "Epoch 7/10\n",
            "11/11 [==============================] - 11s 1s/step - loss: 0.1386 - accuracy: 0.5547\n",
            "Epoch 8/10\n",
            "11/11 [==============================] - 11s 999ms/step - loss: 0.1315 - accuracy: 0.4835\n",
            "Epoch 9/10\n",
            "11/11 [==============================] - 11s 1s/step - loss: 0.1228 - accuracy: 0.4867\n",
            "Epoch 10/10\n",
            "11/11 [==============================] - 11s 998ms/step - loss: 0.1191 - accuracy: 0.4719\n"
          ]
        },
        {
          "output_type": "execute_result",
          "data": {
            "text/plain": [
              "<keras.callbacks.History at 0x7f59adb630d0>"
            ]
          },
          "metadata": {},
          "execution_count": 58
        }
      ]
    }
  ]
}